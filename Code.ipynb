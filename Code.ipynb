{
 "cells": [
  {
   "cell_type": "markdown",
   "id": "f2fb077d",
   "metadata": {},
   "source": [
    "# Importing Libraries"
   ]
  },
  {
   "cell_type": "code",
   "execution_count": 206,
   "id": "ee16762a",
   "metadata": {},
   "outputs": [],
   "source": [
    "# Importing Libraries\n",
    "import numpy as np\n",
    "import pandas as pd\n",
    "import seaborn as sns\n",
    "import matplotlib.pyplot as plt\n",
    "import warnings\n",
    "import scipy\n",
    "warnings.filterwarnings('ignore')\n",
    "import time\n",
    "%matplotlib inline\n",
    "import missingno as mso\n",
    "from scipy import stats\n",
    "from scipy.stats import pearsonr\n",
    "from scipy.stats import ttest_ind\n",
    "from sklearn.metrics import classification_report\n",
    "from sklearn.metrics import confusion_matrix\n",
    "from sklearn.preprocessing import MinMaxScaler\n",
    "from sklearn.model_selection import train_test_split\n",
    "from imblearn.over_sampling import SMOTE\n",
    "from sklearn.linear_model import LogisticRegression\n",
    "from sklearn.neighbors import KNeighborsClassifier\n",
    "from sklearn.tree import DecisionTreeClassifier\n",
    "from sklearn.ensemble import RandomForestClassifier\n",
    "from sklearn.model_selection import GridSearchCV, RandomizedSearchCV\n",
    "from sklearn.metrics import accuracy_score"
   ]
  },
  {
   "cell_type": "markdown",
   "id": "b6399835",
   "metadata": {},
   "source": [
    "# Reading Data Set"
   ]
  },
  {
   "cell_type": "code",
   "execution_count": 298,
   "id": "cc06b05a",
   "metadata": {},
   "outputs": [],
   "source": [
    "#Reading Data Set\n",
    "df = pd.read_csv(\"train_BRCpofr.csv\")"
   ]
  },
  {
   "cell_type": "code",
   "execution_count": 299,
   "id": "4970aa0a",
   "metadata": {},
   "outputs": [
    {
     "data": {
      "text/html": [
       "<div>\n",
       "<style scoped>\n",
       "    .dataframe tbody tr th:only-of-type {\n",
       "        vertical-align: middle;\n",
       "    }\n",
       "\n",
       "    .dataframe tbody tr th {\n",
       "        vertical-align: top;\n",
       "    }\n",
       "\n",
       "    .dataframe thead th {\n",
       "        text-align: right;\n",
       "    }\n",
       "</style>\n",
       "<table border=\"1\" class=\"dataframe\">\n",
       "  <thead>\n",
       "    <tr style=\"text-align: right;\">\n",
       "      <th></th>\n",
       "      <th>id</th>\n",
       "      <th>gender</th>\n",
       "      <th>area</th>\n",
       "      <th>qualification</th>\n",
       "      <th>income</th>\n",
       "      <th>marital_status</th>\n",
       "      <th>vintage</th>\n",
       "      <th>claim_amount</th>\n",
       "      <th>num_policies</th>\n",
       "      <th>policy</th>\n",
       "      <th>type_of_policy</th>\n",
       "      <th>cltv</th>\n",
       "    </tr>\n",
       "  </thead>\n",
       "  <tbody>\n",
       "    <tr>\n",
       "      <th>0</th>\n",
       "      <td>1</td>\n",
       "      <td>Male</td>\n",
       "      <td>Urban</td>\n",
       "      <td>Bachelor</td>\n",
       "      <td>5L-10L</td>\n",
       "      <td>1</td>\n",
       "      <td>5</td>\n",
       "      <td>5790</td>\n",
       "      <td>More than 1</td>\n",
       "      <td>A</td>\n",
       "      <td>Platinum</td>\n",
       "      <td>64308</td>\n",
       "    </tr>\n",
       "    <tr>\n",
       "      <th>1</th>\n",
       "      <td>2</td>\n",
       "      <td>Male</td>\n",
       "      <td>Rural</td>\n",
       "      <td>High School</td>\n",
       "      <td>5L-10L</td>\n",
       "      <td>0</td>\n",
       "      <td>8</td>\n",
       "      <td>5080</td>\n",
       "      <td>More than 1</td>\n",
       "      <td>A</td>\n",
       "      <td>Platinum</td>\n",
       "      <td>515400</td>\n",
       "    </tr>\n",
       "    <tr>\n",
       "      <th>2</th>\n",
       "      <td>3</td>\n",
       "      <td>Male</td>\n",
       "      <td>Urban</td>\n",
       "      <td>Bachelor</td>\n",
       "      <td>5L-10L</td>\n",
       "      <td>1</td>\n",
       "      <td>8</td>\n",
       "      <td>2599</td>\n",
       "      <td>More than 1</td>\n",
       "      <td>A</td>\n",
       "      <td>Platinum</td>\n",
       "      <td>64212</td>\n",
       "    </tr>\n",
       "    <tr>\n",
       "      <th>3</th>\n",
       "      <td>4</td>\n",
       "      <td>Female</td>\n",
       "      <td>Rural</td>\n",
       "      <td>High School</td>\n",
       "      <td>5L-10L</td>\n",
       "      <td>0</td>\n",
       "      <td>7</td>\n",
       "      <td>0</td>\n",
       "      <td>More than 1</td>\n",
       "      <td>A</td>\n",
       "      <td>Platinum</td>\n",
       "      <td>97920</td>\n",
       "    </tr>\n",
       "    <tr>\n",
       "      <th>4</th>\n",
       "      <td>5</td>\n",
       "      <td>Male</td>\n",
       "      <td>Urban</td>\n",
       "      <td>High School</td>\n",
       "      <td>More than 10L</td>\n",
       "      <td>1</td>\n",
       "      <td>6</td>\n",
       "      <td>3508</td>\n",
       "      <td>More than 1</td>\n",
       "      <td>A</td>\n",
       "      <td>Gold</td>\n",
       "      <td>59736</td>\n",
       "    </tr>\n",
       "  </tbody>\n",
       "</table>\n",
       "</div>"
      ],
      "text/plain": [
       "   id  gender   area qualification         income  marital_status  vintage  \\\n",
       "0   1    Male  Urban      Bachelor         5L-10L               1        5   \n",
       "1   2    Male  Rural   High School         5L-10L               0        8   \n",
       "2   3    Male  Urban      Bachelor         5L-10L               1        8   \n",
       "3   4  Female  Rural   High School         5L-10L               0        7   \n",
       "4   5    Male  Urban   High School  More than 10L               1        6   \n",
       "\n",
       "   claim_amount num_policies policy type_of_policy    cltv  \n",
       "0          5790  More than 1      A       Platinum   64308  \n",
       "1          5080  More than 1      A       Platinum  515400  \n",
       "2          2599  More than 1      A       Platinum   64212  \n",
       "3             0  More than 1      A       Platinum   97920  \n",
       "4          3508  More than 1      A           Gold   59736  "
      ]
     },
     "execution_count": 299,
     "metadata": {},
     "output_type": "execute_result"
    }
   ],
   "source": [
    "df.head()"
   ]
  },
  {
   "cell_type": "code",
   "execution_count": 300,
   "id": "5a64d4f3",
   "metadata": {},
   "outputs": [
    {
     "data": {
      "text/plain": [
       "(89392, 12)"
      ]
     },
     "execution_count": 300,
     "metadata": {},
     "output_type": "execute_result"
    }
   ],
   "source": [
    "df.shape"
   ]
  },
  {
   "cell_type": "markdown",
   "id": "4e58174e",
   "metadata": {},
   "source": [
    "# Data Exploration"
   ]
  },
  {
   "cell_type": "code",
   "execution_count": 301,
   "id": "06df99e0",
   "metadata": {},
   "outputs": [],
   "source": [
    "Data = df.copy()"
   ]
  },
  {
   "cell_type": "code",
   "execution_count": 302,
   "id": "0822216d",
   "metadata": {},
   "outputs": [
    {
     "name": "stdout",
     "output_type": "stream",
     "text": [
      "There are 7 categorical variables in Data \n",
      "\n",
      "Categorical Variables are : ['gender', 'area', 'qualification', 'income', 'num_policies', 'policy', 'type_of_policy']\n"
     ]
    }
   ],
   "source": [
    "Data_cat = [var for var in Data.columns if Data[var].dtype == 'O']\n",
    "print('There are {} categorical variables in Data \\n'.format(len(Data_cat)))\n",
    "print('Categorical Variables are :', Data_cat)"
   ]
  },
  {
   "cell_type": "code",
   "execution_count": 303,
   "id": "7c44beb5",
   "metadata": {},
   "outputs": [
    {
     "name": "stdout",
     "output_type": "stream",
     "text": [
      "There are 5 numerical variable in Data \n",
      "\n",
      "Numerical Variables are ['id', 'marital_status', 'vintage', 'claim_amount', 'cltv']\n"
     ]
    }
   ],
   "source": [
    "Data_num = [num for num in Data.columns if Data[num].dtype != 'O']\n",
    "print('There are {} numerical variable in Data \\n'.format(len(Data_num)))\n",
    "print(\"Numerical Variables are\", Data_num)"
   ]
  },
  {
   "cell_type": "code",
   "execution_count": 304,
   "id": "39f8d593",
   "metadata": {
    "scrolled": false
   },
   "outputs": [
    {
     "name": "stdout",
     "output_type": "stream",
     "text": [
      "The total number of Columns in Data are : 12\n"
     ]
    }
   ],
   "source": [
    "print(\"The total number of Columns in Data are :\", len(Data.columns))"
   ]
  },
  {
   "cell_type": "code",
   "execution_count": 305,
   "id": "90f6b400",
   "metadata": {},
   "outputs": [
    {
     "data": {
      "text/html": [
       "<div>\n",
       "<style scoped>\n",
       "    .dataframe tbody tr th:only-of-type {\n",
       "        vertical-align: middle;\n",
       "    }\n",
       "\n",
       "    .dataframe tbody tr th {\n",
       "        vertical-align: top;\n",
       "    }\n",
       "\n",
       "    .dataframe thead th {\n",
       "        text-align: right;\n",
       "    }\n",
       "</style>\n",
       "<table border=\"1\" class=\"dataframe\">\n",
       "  <thead>\n",
       "    <tr style=\"text-align: right;\">\n",
       "      <th></th>\n",
       "      <th>claim_amount</th>\n",
       "      <th>cltv</th>\n",
       "    </tr>\n",
       "  </thead>\n",
       "  <tbody>\n",
       "    <tr>\n",
       "      <th>count</th>\n",
       "      <td>89392.000000</td>\n",
       "      <td>89392.000000</td>\n",
       "    </tr>\n",
       "    <tr>\n",
       "      <th>mean</th>\n",
       "      <td>4351.502416</td>\n",
       "      <td>97952.828978</td>\n",
       "    </tr>\n",
       "    <tr>\n",
       "      <th>std</th>\n",
       "      <td>3262.359775</td>\n",
       "      <td>90613.814793</td>\n",
       "    </tr>\n",
       "    <tr>\n",
       "      <th>min</th>\n",
       "      <td>0.000000</td>\n",
       "      <td>24828.000000</td>\n",
       "    </tr>\n",
       "    <tr>\n",
       "      <th>25%</th>\n",
       "      <td>2406.000000</td>\n",
       "      <td>52836.000000</td>\n",
       "    </tr>\n",
       "    <tr>\n",
       "      <th>50%</th>\n",
       "      <td>4089.000000</td>\n",
       "      <td>66396.000000</td>\n",
       "    </tr>\n",
       "    <tr>\n",
       "      <th>75%</th>\n",
       "      <td>6094.000000</td>\n",
       "      <td>103440.000000</td>\n",
       "    </tr>\n",
       "    <tr>\n",
       "      <th>max</th>\n",
       "      <td>31894.000000</td>\n",
       "      <td>724068.000000</td>\n",
       "    </tr>\n",
       "  </tbody>\n",
       "</table>\n",
       "</div>"
      ],
      "text/plain": [
       "       claim_amount           cltv\n",
       "count  89392.000000   89392.000000\n",
       "mean    4351.502416   97952.828978\n",
       "std     3262.359775   90613.814793\n",
       "min        0.000000   24828.000000\n",
       "25%     2406.000000   52836.000000\n",
       "50%     4089.000000   66396.000000\n",
       "75%     6094.000000  103440.000000\n",
       "max    31894.000000  724068.000000"
      ]
     },
     "execution_count": 305,
     "metadata": {},
     "output_type": "execute_result"
    }
   ],
   "source": [
    "Data[[\"claim_amount\",\"cltv\"]].describe()"
   ]
  },
  {
   "cell_type": "code",
   "execution_count": 306,
   "id": "bc3b65e5",
   "metadata": {
    "scrolled": true
   },
   "outputs": [
    {
     "data": {
      "text/plain": [
       "id                0\n",
       "gender            0\n",
       "area              0\n",
       "qualification     0\n",
       "income            0\n",
       "marital_status    0\n",
       "vintage           0\n",
       "claim_amount      0\n",
       "num_policies      0\n",
       "policy            0\n",
       "type_of_policy    0\n",
       "cltv              0\n",
       "dtype: int64"
      ]
     },
     "execution_count": 306,
     "metadata": {},
     "output_type": "execute_result"
    }
   ],
   "source": [
    "Data.isnull().sum()"
   ]
  },
  {
   "cell_type": "code",
   "execution_count": 307,
   "id": "fb6de470",
   "metadata": {},
   "outputs": [
    {
     "data": {
      "text/plain": [
       "<AxesSubplot:>"
      ]
     },
     "execution_count": 307,
     "metadata": {},
     "output_type": "execute_result"
    },
    {
     "data": {
      "image/png": "[encoded data removed]",
      "text/plain": [
       "<Figure size 1800x720 with 3 Axes>"
      ]
     },
     "metadata": {},
     "output_type": "display_data"
    }
   ],
   "source": [
    "mso.bar(Data) #Missing Values"
   ]
  },
  {
   "cell_type": "markdown",
   "id": "131f87c1",
   "metadata": {},
   "source": [
    "## Univariate Analysis"
   ]
  },
  {
   "cell_type": "markdown",
   "id": "8bfabac4",
   "metadata": {},
   "source": [
    "### Target Variable in Data"
   ]
  },
  {
   "cell_type": "markdown",
   "id": "e0875fda",
   "metadata": {},
   "source": [
    "#### CLTV"
   ]
  },
  {
   "cell_type": "code",
   "execution_count": 308,
   "id": "f95d92aa",
   "metadata": {},
   "outputs": [
    {
     "data": {
      "text/html": [
       "<div>\n",
       "<style scoped>\n",
       "    .dataframe tbody tr th:only-of-type {\n",
       "        vertical-align: middle;\n",
       "    }\n",
       "\n",
       "    .dataframe tbody tr th {\n",
       "        vertical-align: top;\n",
       "    }\n",
       "\n",
       "    .dataframe thead th {\n",
       "        text-align: right;\n",
       "    }\n",
       "</style>\n",
       "<table border=\"1\" class=\"dataframe\">\n",
       "  <thead>\n",
       "    <tr style=\"text-align: right;\">\n",
       "      <th></th>\n",
       "      <th>cltv</th>\n",
       "    </tr>\n",
       "  </thead>\n",
       "  <tbody>\n",
       "    <tr>\n",
       "      <th>0</th>\n",
       "      <td>64308</td>\n",
       "    </tr>\n",
       "    <tr>\n",
       "      <th>1</th>\n",
       "      <td>515400</td>\n",
       "    </tr>\n",
       "    <tr>\n",
       "      <th>2</th>\n",
       "      <td>64212</td>\n",
       "    </tr>\n",
       "    <tr>\n",
       "      <th>3</th>\n",
       "      <td>97920</td>\n",
       "    </tr>\n",
       "    <tr>\n",
       "      <th>4</th>\n",
       "      <td>59736</td>\n",
       "    </tr>\n",
       "  </tbody>\n",
       "</table>\n",
       "</div>"
      ],
      "text/plain": [
       "     cltv\n",
       "0   64308\n",
       "1  515400\n",
       "2   64212\n",
       "3   97920\n",
       "4   59736"
      ]
     },
     "execution_count": 308,
     "metadata": {},
     "output_type": "execute_result"
    }
   ],
   "source": [
    "Data[[\"cltv\"]].head()"
   ]
  },
  {
   "cell_type": "code",
   "execution_count": 309,
   "id": "30d1d152",
   "metadata": {},
   "outputs": [
    {
     "name": "stdout",
     "output_type": "stream",
     "text": [
      "Null Value in CLTV : 0\n"
     ]
    }
   ],
   "source": [
    "print(\"Null Value in CLTV :\", Data['cltv'].isnull().sum())"
   ]
  },
  {
   "cell_type": "code",
   "execution_count": 310,
   "id": "c5d50530",
   "metadata": {},
   "outputs": [
    {
     "name": "stdout",
     "output_type": "stream",
     "text": [
      "Number of Unique Values in CLTV : 18796\n"
     ]
    }
   ],
   "source": [
    "print(\"Number of Unique Values in CLTV :\", Data['cltv'].nunique())"
   ]
  },
  {
   "cell_type": "code",
   "execution_count": 311,
   "id": "258d1c4b",
   "metadata": {},
   "outputs": [
    {
     "name": "stdout",
     "output_type": "stream",
     "text": [
      "count     89392.000000\n",
      "mean      97952.828978\n",
      "std       90613.814793\n",
      "min       24828.000000\n",
      "25%       52836.000000\n",
      "50%       66396.000000\n",
      "75%      103440.000000\n",
      "max      724068.000000\n",
      "Name: cltv, dtype: float64\n"
     ]
    }
   ],
   "source": [
    "print(Data['cltv'].describe())"
   ]
  },
  {
   "cell_type": "code",
   "execution_count": 312,
   "id": "15f861a3",
   "metadata": {
    "scrolled": false
   },
   "outputs": [
    {
     "data": {
      "text/plain": [
       "Text(0.5, 0, 'CLTV')"
      ]
     },
     "execution_count": 312,
     "metadata": {},
     "output_type": "execute_result"
    },
    {
     "data": {
      "image/png": "[encoded data removed]",
      "text/plain": [
       "<Figure size 720x576 with 1 Axes>"
      ]
     },
     "metadata": {},
     "output_type": "display_data"
    }
   ],
   "source": [
    "sns.set(style=\"darkgrid\")\n",
    "fig, ax = plt.subplots(figsize=(10, 8))\n",
    "sns.histplot(data=Data, x=\"cltv\", kde=True, color='green')\n",
    "ax.set_title('Histogram of CLTV')\n",
    "ax.set_xlabel('CLTV')"
   ]
  },
  {
   "cell_type": "code",
   "execution_count": 313,
   "id": "5a8d0315",
   "metadata": {},
   "outputs": [
    {
     "data": {
      "text/plain": [
       "Text(0, 0.5, 'CLTV')"
      ]
     },
     "execution_count": 313,
     "metadata": {},
     "output_type": "execute_result"
    },
    {
     "data": {
      "image/png": "[encoded data removed]",
      "text/plain": [
       "<Figure size 720x720 with 1 Axes>"
      ]
     },
     "metadata": {},
     "output_type": "display_data"
    }
   ],
   "source": [
    "sns.set(style=\"darkgrid\")\n",
    "fig, ax = plt.subplots(figsize=(10, 10))\n",
    "sns.boxplot(x=\"cltv\", data = Data, color='green')\n",
    "ax.set_title('Boxplot of CLTV')\n",
    "ax.set_xlabel('Count')\n",
    "ax.set_ylabel('CLTV')"
   ]
  },
  {
   "cell_type": "code",
   "execution_count": 314,
   "id": "8c6da124",
   "metadata": {},
   "outputs": [
    {
     "name": "stdout",
     "output_type": "stream",
     "text": [
      "Percentage of Not Null Values: 100.00%\n",
      "Missing values percentage: 0.00%\n"
     ]
    }
   ],
   "source": [
    "count_NotNullValues_CLTV = len(Data[Data.cltv.notnull()])\n",
    "count_NullValues_CLTV = len(Data[Data.cltv.isnull()])\n",
    "\n",
    "print(\"Percentage of Not Null Values: {:.2f}%\".format((count_NotNullValues_CLTV / (len(Data.cltv)))*100))\n",
    "print(\"Missing values percentage: {:.2f}%\".format((count_NullValues_CLTV / (len(Data.cltv)))*100))"
   ]
  },
  {
   "cell_type": "markdown",
   "id": "8b74944a",
   "metadata": {},
   "source": [
    "### Categorical Variable in Train Data"
   ]
  },
  {
   "cell_type": "markdown",
   "id": "a9ad0e8e",
   "metadata": {},
   "source": [
    "#### ID"
   ]
  },
  {
   "cell_type": "code",
   "execution_count": 315,
   "id": "f5048c99",
   "metadata": {},
   "outputs": [
    {
     "data": {
      "text/html": [
       "<div>\n",
       "<style scoped>\n",
       "    .dataframe tbody tr th:only-of-type {\n",
       "        vertical-align: middle;\n",
       "    }\n",
       "\n",
       "    .dataframe tbody tr th {\n",
       "        vertical-align: top;\n",
       "    }\n",
       "\n",
       "    .dataframe thead th {\n",
       "        text-align: right;\n",
       "    }\n",
       "</style>\n",
       "<table border=\"1\" class=\"dataframe\">\n",
       "  <thead>\n",
       "    <tr style=\"text-align: right;\">\n",
       "      <th></th>\n",
       "      <th>id</th>\n",
       "    </tr>\n",
       "  </thead>\n",
       "  <tbody>\n",
       "    <tr>\n",
       "      <th>0</th>\n",
       "      <td>1</td>\n",
       "    </tr>\n",
       "    <tr>\n",
       "      <th>1</th>\n",
       "      <td>2</td>\n",
       "    </tr>\n",
       "    <tr>\n",
       "      <th>2</th>\n",
       "      <td>3</td>\n",
       "    </tr>\n",
       "    <tr>\n",
       "      <th>3</th>\n",
       "      <td>4</td>\n",
       "    </tr>\n",
       "    <tr>\n",
       "      <th>4</th>\n",
       "      <td>5</td>\n",
       "    </tr>\n",
       "  </tbody>\n",
       "</table>\n",
       "</div>"
      ],
      "text/plain": [
       "   id\n",
       "0   1\n",
       "1   2\n",
       "2   3\n",
       "3   4\n",
       "4   5"
      ]
     },
     "execution_count": 315,
     "metadata": {},
     "output_type": "execute_result"
    }
   ],
   "source": [
    "Data[[\"id\"]].head()"
   ]
  },
  {
   "cell_type": "code",
   "execution_count": 316,
   "id": "73a4e57f",
   "metadata": {},
   "outputs": [],
   "source": [
    "Data.drop(\"id\", inplace = True, axis =1)"
   ]
  },
  {
   "cell_type": "code",
   "execution_count": 317,
   "id": "1e5bec57",
   "metadata": {},
   "outputs": [
    {
     "data": {
      "text/html": [
       "<div>\n",
       "<style scoped>\n",
       "    .dataframe tbody tr th:only-of-type {\n",
       "        vertical-align: middle;\n",
       "    }\n",
       "\n",
       "    .dataframe tbody tr th {\n",
       "        vertical-align: top;\n",
       "    }\n",
       "\n",
       "    .dataframe thead th {\n",
       "        text-align: right;\n",
       "    }\n",
       "</style>\n",
       "<table border=\"1\" class=\"dataframe\">\n",
       "  <thead>\n",
       "    <tr style=\"text-align: right;\">\n",
       "      <th></th>\n",
       "      <th>gender</th>\n",
       "      <th>area</th>\n",
       "      <th>qualification</th>\n",
       "      <th>income</th>\n",
       "      <th>marital_status</th>\n",
       "      <th>vintage</th>\n",
       "      <th>claim_amount</th>\n",
       "      <th>num_policies</th>\n",
       "      <th>policy</th>\n",
       "      <th>type_of_policy</th>\n",
       "      <th>cltv</th>\n",
       "    </tr>\n",
       "  </thead>\n",
       "  <tbody>\n",
       "    <tr>\n",
       "      <th>0</th>\n",
       "      <td>Male</td>\n",
       "      <td>Urban</td>\n",
       "      <td>Bachelor</td>\n",
       "      <td>5L-10L</td>\n",
       "      <td>1</td>\n",
       "      <td>5</td>\n",
       "      <td>5790</td>\n",
       "      <td>More than 1</td>\n",
       "      <td>A</td>\n",
       "      <td>Platinum</td>\n",
       "      <td>64308</td>\n",
       "    </tr>\n",
       "    <tr>\n",
       "      <th>1</th>\n",
       "      <td>Male</td>\n",
       "      <td>Rural</td>\n",
       "      <td>High School</td>\n",
       "      <td>5L-10L</td>\n",
       "      <td>0</td>\n",
       "      <td>8</td>\n",
       "      <td>5080</td>\n",
       "      <td>More than 1</td>\n",
       "      <td>A</td>\n",
       "      <td>Platinum</td>\n",
       "      <td>515400</td>\n",
       "    </tr>\n",
       "    <tr>\n",
       "      <th>2</th>\n",
       "      <td>Male</td>\n",
       "      <td>Urban</td>\n",
       "      <td>Bachelor</td>\n",
       "      <td>5L-10L</td>\n",
       "      <td>1</td>\n",
       "      <td>8</td>\n",
       "      <td>2599</td>\n",
       "      <td>More than 1</td>\n",
       "      <td>A</td>\n",
       "      <td>Platinum</td>\n",
       "      <td>64212</td>\n",
       "    </tr>\n",
       "    <tr>\n",
       "      <th>3</th>\n",
       "      <td>Female</td>\n",
       "      <td>Rural</td>\n",
       "      <td>High School</td>\n",
       "      <td>5L-10L</td>\n",
       "      <td>0</td>\n",
       "      <td>7</td>\n",
       "      <td>0</td>\n",
       "      <td>More than 1</td>\n",
       "      <td>A</td>\n",
       "      <td>Platinum</td>\n",
       "      <td>97920</td>\n",
       "    </tr>\n",
       "    <tr>\n",
       "      <th>4</th>\n",
       "      <td>Male</td>\n",
       "      <td>Urban</td>\n",
       "      <td>High School</td>\n",
       "      <td>More than 10L</td>\n",
       "      <td>1</td>\n",
       "      <td>6</td>\n",
       "      <td>3508</td>\n",
       "      <td>More than 1</td>\n",
       "      <td>A</td>\n",
       "      <td>Gold</td>\n",
       "      <td>59736</td>\n",
       "    </tr>\n",
       "  </tbody>\n",
       "</table>\n",
       "</div>"
      ],
      "text/plain": [
       "   gender   area qualification         income  marital_status  vintage  \\\n",
       "0    Male  Urban      Bachelor         5L-10L               1        5   \n",
       "1    Male  Rural   High School         5L-10L               0        8   \n",
       "2    Male  Urban      Bachelor         5L-10L               1        8   \n",
       "3  Female  Rural   High School         5L-10L               0        7   \n",
       "4    Male  Urban   High School  More than 10L               1        6   \n",
       "\n",
       "   claim_amount num_policies policy type_of_policy    cltv  \n",
       "0          5790  More than 1      A       Platinum   64308  \n",
       "1          5080  More than 1      A       Platinum  515400  \n",
       "2          2599  More than 1      A       Platinum   64212  \n",
       "3             0  More than 1      A       Platinum   97920  \n",
       "4          3508  More than 1      A           Gold   59736  "
      ]
     },
     "execution_count": 317,
     "metadata": {},
     "output_type": "execute_result"
    }
   ],
   "source": [
    "Data.head()"
   ]
  },
  {
   "cell_type": "code",
   "execution_count": 318,
   "id": "47661aed",
   "metadata": {},
   "outputs": [
    {
     "data": {
      "text/plain": [
       "11"
      ]
     },
     "execution_count": 318,
     "metadata": {},
     "output_type": "execute_result"
    }
   ],
   "source": [
    "len(Data.columns)"
   ]
  },
  {
   "cell_type": "markdown",
   "id": "68b43eed",
   "metadata": {},
   "source": [
    "####  Gender"
   ]
  },
  {
   "cell_type": "code",
   "execution_count": 319,
   "id": "16f842fb",
   "metadata": {},
   "outputs": [
    {
     "data": {
      "text/html": [
       "<div>\n",
       "<style scoped>\n",
       "    .dataframe tbody tr th:only-of-type {\n",
       "        vertical-align: middle;\n",
       "    }\n",
       "\n",
       "    .dataframe tbody tr th {\n",
       "        vertical-align: top;\n",
       "    }\n",
       "\n",
       "    .dataframe thead th {\n",
       "        text-align: right;\n",
       "    }\n",
       "</style>\n",
       "<table border=\"1\" class=\"dataframe\">\n",
       "  <thead>\n",
       "    <tr style=\"text-align: right;\">\n",
       "      <th></th>\n",
       "      <th>gender</th>\n",
       "    </tr>\n",
       "  </thead>\n",
       "  <tbody>\n",
       "    <tr>\n",
       "      <th>0</th>\n",
       "      <td>Male</td>\n",
       "    </tr>\n",
       "    <tr>\n",
       "      <th>1</th>\n",
       "      <td>Male</td>\n",
       "    </tr>\n",
       "    <tr>\n",
       "      <th>2</th>\n",
       "      <td>Male</td>\n",
       "    </tr>\n",
       "    <tr>\n",
       "      <th>3</th>\n",
       "      <td>Female</td>\n",
       "    </tr>\n",
       "    <tr>\n",
       "      <th>4</th>\n",
       "      <td>Male</td>\n",
       "    </tr>\n",
       "  </tbody>\n",
       "</table>\n",
       "</div>"
      ],
      "text/plain": [
       "   gender\n",
       "0    Male\n",
       "1    Male\n",
       "2    Male\n",
       "3  Female\n",
       "4    Male"
      ]
     },
     "execution_count": 319,
     "metadata": {},
     "output_type": "execute_result"
    }
   ],
   "source": [
    "Data[[\"gender\"]].head()"
   ]
  },
  {
   "cell_type": "code",
   "execution_count": 320,
   "id": "6ce3d9f3",
   "metadata": {},
   "outputs": [
    {
     "name": "stdout",
     "output_type": "stream",
     "text": [
      "Null Value in Gender : 0\n",
      "Number of Unique Values in Gender : 2\n"
     ]
    }
   ],
   "source": [
    "print(\"Null Value in Gender :\", Data['gender'].isnull().sum())\n",
    "print(\"Number of Unique Values in Gender :\", Data['gender'].nunique())"
   ]
  },
  {
   "cell_type": "code",
   "execution_count": 321,
   "id": "8b8c4564",
   "metadata": {},
   "outputs": [
    {
     "name": "stdout",
     "output_type": "stream",
     "text": [
      "Number of Male and Females in Gender are :\n",
      " Male      50497\n",
      "Female    38895\n",
      "Name: gender, dtype: int64\n"
     ]
    }
   ],
   "source": [
    "print(\"Number of Male and Females in Gender are :\\n\", Data['gender'].value_counts())"
   ]
  },
  {
   "cell_type": "code",
   "execution_count": 322,
   "id": "e0919796",
   "metadata": {},
   "outputs": [
    {
     "data": {
      "image/png": "[encoded data removed]",
      "text/plain": [
       "<Figure size 432x288 with 1 Axes>"
      ]
     },
     "metadata": {},
     "output_type": "display_data"
    }
   ],
   "source": [
    "sns.countplot(x = \"gender\", data = Data, palette = \"hls\")\n",
    "plt.show()"
   ]
  },
  {
   "cell_type": "code",
   "execution_count": 323,
   "id": "30cc3620",
   "metadata": {},
   "outputs": [
    {
     "data": {
      "text/plain": [
       "array(['Male', 'Female'], dtype=object)"
      ]
     },
     "execution_count": 323,
     "metadata": {},
     "output_type": "execute_result"
    }
   ],
   "source": [
    "Data['gender'].unique()"
   ]
  },
  {
   "cell_type": "code",
   "execution_count": 324,
   "id": "66a78751",
   "metadata": {},
   "outputs": [
    {
     "name": "stdout",
     "output_type": "stream",
     "text": [
      "Percentage of Male applicant: 56.49%\n",
      "Percentage of Female applicant: 43.51%\n"
     ]
    }
   ],
   "source": [
    "countMale = len(Data[Data.gender == 'Male'])\n",
    "countFemale = len(Data[Data.gender == 'Female'])\n",
    "\n",
    "print(\"Percentage of Male applicant: {:.2f}%\".format((countMale / (len(Data.gender)))*100))\n",
    "print(\"Percentage of Female applicant: {:.2f}%\".format((countFemale / (len(Data.gender)))*100))"
   ]
  },
  {
   "cell_type": "markdown",
   "id": "1bddf589",
   "metadata": {},
   "source": [
    "#### Area"
   ]
  },
  {
   "cell_type": "code",
   "execution_count": 325,
   "id": "ef6f7adb",
   "metadata": {},
   "outputs": [
    {
     "data": {
      "text/html": [
       "<div>\n",
       "<style scoped>\n",
       "    .dataframe tbody tr th:only-of-type {\n",
       "        vertical-align: middle;\n",
       "    }\n",
       "\n",
       "    .dataframe tbody tr th {\n",
       "        vertical-align: top;\n",
       "    }\n",
       "\n",
       "    .dataframe thead th {\n",
       "        text-align: right;\n",
       "    }\n",
       "</style>\n",
       "<table border=\"1\" class=\"dataframe\">\n",
       "  <thead>\n",
       "    <tr style=\"text-align: right;\">\n",
       "      <th></th>\n",
       "      <th>area</th>\n",
       "    </tr>\n",
       "  </thead>\n",
       "  <tbody>\n",
       "    <tr>\n",
       "      <th>0</th>\n",
       "      <td>Urban</td>\n",
       "    </tr>\n",
       "    <tr>\n",
       "      <th>1</th>\n",
       "      <td>Rural</td>\n",
       "    </tr>\n",
       "    <tr>\n",
       "      <th>2</th>\n",
       "      <td>Urban</td>\n",
       "    </tr>\n",
       "    <tr>\n",
       "      <th>3</th>\n",
       "      <td>Rural</td>\n",
       "    </tr>\n",
       "    <tr>\n",
       "      <th>4</th>\n",
       "      <td>Urban</td>\n",
       "    </tr>\n",
       "  </tbody>\n",
       "</table>\n",
       "</div>"
      ],
      "text/plain": [
       "    area\n",
       "0  Urban\n",
       "1  Rural\n",
       "2  Urban\n",
       "3  Rural\n",
       "4  Urban"
      ]
     },
     "execution_count": 325,
     "metadata": {},
     "output_type": "execute_result"
    }
   ],
   "source": [
    "Data[[\"area\"]].head()"
   ]
  },
  {
   "cell_type": "code",
   "execution_count": 326,
   "id": "43f7e55f",
   "metadata": {
    "scrolled": true
   },
   "outputs": [
    {
     "name": "stdout",
     "output_type": "stream",
     "text": [
      "Null Value in Area : 0\n"
     ]
    }
   ],
   "source": [
    "print(\"Null Value in Area :\", Data['area'].isnull().sum())"
   ]
  },
  {
   "cell_type": "code",
   "execution_count": 327,
   "id": "65c55135",
   "metadata": {},
   "outputs": [
    {
     "name": "stdout",
     "output_type": "stream",
     "text": [
      "Number of Unique Values in area : 2\n"
     ]
    }
   ],
   "source": [
    "print(\"Number of Unique Values in area :\", Data['area'].nunique())"
   ]
  },
  {
   "cell_type": "code",
   "execution_count": 328,
   "id": "ee30d24c",
   "metadata": {},
   "outputs": [
    {
     "name": "stdout",
     "output_type": "stream",
     "text": [
      "Number of Urban and Rural in Area are :\n",
      " Urban    62455\n",
      "Rural    26937\n",
      "Name: area, dtype: int64\n"
     ]
    }
   ],
   "source": [
    "print(\"Number of Urban and Rural in Area are :\\n\", Data['area'].value_counts())"
   ]
  },
  {
   "cell_type": "code",
   "execution_count": 329,
   "id": "620292b7",
   "metadata": {},
   "outputs": [
    {
     "data": {
      "image/png": "[encoded data removed]",
      "text/plain": [
       "<Figure size 432x288 with 1 Axes>"
      ]
     },
     "metadata": {},
     "output_type": "display_data"
    }
   ],
   "source": [
    "sns.countplot(x = \"area\", data = Data, palette = \"Paired\")\n",
    "plt.show()"
   ]
  },
  {
   "cell_type": "code",
   "execution_count": 330,
   "id": "edffd447",
   "metadata": {},
   "outputs": [
    {
     "name": "stdout",
     "output_type": "stream",
     "text": [
      "Percentage of Rural: 30.13%\n",
      "Percentage of Urban applicant: 69.87%\n"
     ]
    }
   ],
   "source": [
    "countrural = len(Data[Data.area == 'Rural'])\n",
    "counturban = len(Data[Data.area == 'Urban'])\n",
    "\n",
    "print(\"Percentage of Rural: {:.2f}%\".format((countrural / (len(Data.area)))*100))\n",
    "print(\"Percentage of Urban applicant: {:.2f}%\".format((counturban / (len(Data.area)))*100))"
   ]
  },
  {
   "cell_type": "markdown",
   "id": "07f81b1d",
   "metadata": {},
   "source": [
    "#### Qualification"
   ]
  },
  {
   "cell_type": "code",
   "execution_count": 331,
   "id": "12005154",
   "metadata": {},
   "outputs": [
    {
     "data": {
      "text/html": [
       "<div>\n",
       "<style scoped>\n",
       "    .dataframe tbody tr th:only-of-type {\n",
       "        vertical-align: middle;\n",
       "    }\n",
       "\n",
       "    .dataframe tbody tr th {\n",
       "        vertical-align: top;\n",
       "    }\n",
       "\n",
       "    .dataframe thead th {\n",
       "        text-align: right;\n",
       "    }\n",
       "</style>\n",
       "<table border=\"1\" class=\"dataframe\">\n",
       "  <thead>\n",
       "    <tr style=\"text-align: right;\">\n",
       "      <th></th>\n",
       "      <th>qualification</th>\n",
       "    </tr>\n",
       "  </thead>\n",
       "  <tbody>\n",
       "    <tr>\n",
       "      <th>0</th>\n",
       "      <td>Bachelor</td>\n",
       "    </tr>\n",
       "    <tr>\n",
       "      <th>1</th>\n",
       "      <td>High School</td>\n",
       "    </tr>\n",
       "    <tr>\n",
       "      <th>2</th>\n",
       "      <td>Bachelor</td>\n",
       "    </tr>\n",
       "    <tr>\n",
       "      <th>3</th>\n",
       "      <td>High School</td>\n",
       "    </tr>\n",
       "    <tr>\n",
       "      <th>4</th>\n",
       "      <td>High School</td>\n",
       "    </tr>\n",
       "  </tbody>\n",
       "</table>\n",
       "</div>"
      ],
      "text/plain": [
       "  qualification\n",
       "0      Bachelor\n",
       "1   High School\n",
       "2      Bachelor\n",
       "3   High School\n",
       "4   High School"
      ]
     },
     "execution_count": 331,
     "metadata": {},
     "output_type": "execute_result"
    }
   ],
   "source": [
    "Data[[\"qualification\"]].head()"
   ]
  },
  {
   "cell_type": "code",
   "execution_count": 332,
   "id": "c7fd526d",
   "metadata": {},
   "outputs": [
    {
     "name": "stdout",
     "output_type": "stream",
     "text": [
      "Null Value in Qualification : 0\n"
     ]
    }
   ],
   "source": [
    "print(\"Null Value in Qualification :\", Data['qualification'].isnull().sum())"
   ]
  },
  {
   "cell_type": "code",
   "execution_count": 333,
   "id": "5be6df3b",
   "metadata": {},
   "outputs": [
    {
     "name": "stdout",
     "output_type": "stream",
     "text": [
      "Number of Unique Values in Qualification : 3\n"
     ]
    }
   ],
   "source": [
    "print(\"Number of Unique Values in Qualification :\", Data['qualification'].nunique())"
   ]
  },
  {
   "cell_type": "code",
   "execution_count": 334,
   "id": "10a108c7",
   "metadata": {},
   "outputs": [
    {
     "name": "stdout",
     "output_type": "stream",
     "text": [
      "Number of High School, Bachelor, Others in Qualification are :\n",
      " High School    46247\n",
      "Bachelor       39399\n",
      "Others          3746\n",
      "Name: qualification, dtype: int64\n"
     ]
    }
   ],
   "source": [
    "print(\"Number of High School, Bachelor, Others in Qualification are :\\n\", Data['qualification'].value_counts())"
   ]
  },
  {
   "cell_type": "code",
   "execution_count": 335,
   "id": "390db6ae",
   "metadata": {},
   "outputs": [
    {
     "data": {
      "image/png": "[encoded data removed]",
      "text/plain": [
       "<Figure size 432x288 with 1 Axes>"
      ]
     },
     "metadata": {},
     "output_type": "display_data"
    }
   ],
   "source": [
    "sns.countplot(x=\"qualification\", data=Data, palette=\"viridis\")\n",
    "plt.show()"
   ]
  },
  {
   "cell_type": "code",
   "execution_count": 336,
   "id": "c754bfec",
   "metadata": {},
   "outputs": [
    {
     "name": "stdout",
     "output_type": "stream",
     "text": [
      "Percentage of High School Qualification: 51.74%\n",
      "Percentage of Bachelor Qualification: 44.07%\n",
      "Percentage of Others Qualification: 4.19%\n"
     ]
    }
   ],
   "source": [
    "count_highschool = len(Data[Data.qualification == 'High School'])\n",
    "count_bachelor = len(Data[Data.qualification == 'Bachelor'])\n",
    "count_others = len(Data[Data.qualification == 'Others'])\n",
    "\n",
    "print(\"Percentage of High School Qualification: {:.2f}%\".format((count_highschool / (len(Data.qualification)))*100))\n",
    "print(\"Percentage of Bachelor Qualification: {:.2f}%\".format((count_bachelor / (len(Data.qualification)))*100))\n",
    "print(\"Percentage of Others Qualification: {:.2f}%\".format((count_others / (len(Data.qualification)))*100))"
   ]
  },
  {
   "cell_type": "markdown",
   "id": "5bdbb258",
   "metadata": {},
   "source": [
    "#### Income"
   ]
  },
  {
   "cell_type": "code",
   "execution_count": 337,
   "id": "f54698e9",
   "metadata": {},
   "outputs": [
    {
     "data": {
      "text/html": [
       "<div>\n",
       "<style scoped>\n",
       "    .dataframe tbody tr th:only-of-type {\n",
       "        vertical-align: middle;\n",
       "    }\n",
       "\n",
       "    .dataframe tbody tr th {\n",
       "        vertical-align: top;\n",
       "    }\n",
       "\n",
       "    .dataframe thead th {\n",
       "        text-align: right;\n",
       "    }\n",
       "</style>\n",
       "<table border=\"1\" class=\"dataframe\">\n",
       "  <thead>\n",
       "    <tr style=\"text-align: right;\">\n",
       "      <th></th>\n",
       "      <th>income</th>\n",
       "    </tr>\n",
       "  </thead>\n",
       "  <tbody>\n",
       "    <tr>\n",
       "      <th>0</th>\n",
       "      <td>5L-10L</td>\n",
       "    </tr>\n",
       "    <tr>\n",
       "      <th>1</th>\n",
       "      <td>5L-10L</td>\n",
       "    </tr>\n",
       "    <tr>\n",
       "      <th>2</th>\n",
       "      <td>5L-10L</td>\n",
       "    </tr>\n",
       "    <tr>\n",
       "      <th>3</th>\n",
       "      <td>5L-10L</td>\n",
       "    </tr>\n",
       "    <tr>\n",
       "      <th>4</th>\n",
       "      <td>More than 10L</td>\n",
       "    </tr>\n",
       "    <tr>\n",
       "      <th>5</th>\n",
       "      <td>More than 10L</td>\n",
       "    </tr>\n",
       "  </tbody>\n",
       "</table>\n",
       "</div>"
      ],
      "text/plain": [
       "          income\n",
       "0         5L-10L\n",
       "1         5L-10L\n",
       "2         5L-10L\n",
       "3         5L-10L\n",
       "4  More than 10L\n",
       "5  More than 10L"
      ]
     },
     "execution_count": 337,
     "metadata": {},
     "output_type": "execute_result"
    }
   ],
   "source": [
    "Data[[\"income\"]].head(6)"
   ]
  },
  {
   "cell_type": "code",
   "execution_count": 338,
   "id": "c8a8b17e",
   "metadata": {},
   "outputs": [
    {
     "name": "stdout",
     "output_type": "stream",
     "text": [
      "Null Value in income : 0\n"
     ]
    }
   ],
   "source": [
    "print(\"Null Value in income :\", Data['income'].isnull().sum())"
   ]
  },
  {
   "cell_type": "code",
   "execution_count": 339,
   "id": "ac9fecdf",
   "metadata": {},
   "outputs": [
    {
     "name": "stdout",
     "output_type": "stream",
     "text": [
      "Number of Unique Values in income : 4\n"
     ]
    }
   ],
   "source": [
    "print(\"Number of Unique Values in income :\", Data['income'].nunique())"
   ]
  },
  {
   "cell_type": "code",
   "execution_count": 340,
   "id": "1b4e863a",
   "metadata": {},
   "outputs": [
    {
     "name": "stdout",
     "output_type": "stream",
     "text": [
      "Number of Income levels are :\n",
      " 5L-10L           52716\n",
      "2L-5L            21158\n",
      "More than 10L    13664\n",
      "<=2L              1854\n",
      "Name: income, dtype: int64\n"
     ]
    }
   ],
   "source": [
    "print(\"Number of Income levels are :\\n\", Data['income'].value_counts())"
   ]
  },
  {
   "cell_type": "code",
   "execution_count": 341,
   "id": "8a12c58c",
   "metadata": {},
   "outputs": [
    {
     "data": {
      "image/png": "[encoded data removed]",
      "text/plain": [
       "<Figure size 432x288 with 1 Axes>"
      ]
     },
     "metadata": {},
     "output_type": "display_data"
    }
   ],
   "source": [
    "sns.countplot(x=\"income\", data=Data, palette=\"rocket\")\n",
    "plt.show()"
   ]
  },
  {
   "cell_type": "code",
   "execution_count": 342,
   "id": "380116b9",
   "metadata": {},
   "outputs": [
    {
     "name": "stdout",
     "output_type": "stream",
     "text": [
      "Percentage of Less than 2L: 2.07%\n",
      "Percentage of 2L to 5L: 23.67%\n",
      "Percentage of 5L to 10L: 58.97%\n",
      "Percentage of More than 10L: 15.29%\n"
     ]
    }
   ],
   "source": [
    "count_less2l = len(Data[Data.income == '<=2L'])\n",
    "count_2lto5l = len(Data[Data.income == '2L-5L'])\n",
    "count_5lto10l = len(Data[Data.income == '5L-10L'])\n",
    "count_more10l = len(Data[Data.income == 'More than 10L'])\n",
    "\n",
    "print(\"Percentage of Less than 2L: {:.2f}%\".format((count_less2l / (len(Data.income)))*100))\n",
    "print(\"Percentage of 2L to 5L: {:.2f}%\".format((count_2lto5l / (len(Data.income)))*100))\n",
    "print(\"Percentage of 5L to 10L: {:.2f}%\".format((count_5lto10l / (len(Data.income)))*100))\n",
    "print(\"Percentage of More than 10L: {:.2f}%\".format((count_more10l / (len(Data.income)))*100))"
   ]
  },
  {
   "cell_type": "markdown",
   "id": "421ba699",
   "metadata": {},
   "source": [
    "#### Marital Status"
   ]
  },
  {
   "cell_type": "code",
   "execution_count": 343,
   "id": "20af06b0",
   "metadata": {},
   "outputs": [
    {
     "data": {
      "text/html": [
       "<div>\n",
       "<style scoped>\n",
       "    .dataframe tbody tr th:only-of-type {\n",
       "        vertical-align: middle;\n",
       "    }\n",
       "\n",
       "    .dataframe tbody tr th {\n",
       "        vertical-align: top;\n",
       "    }\n",
       "\n",
       "    .dataframe thead th {\n",
       "        text-align: right;\n",
       "    }\n",
       "</style>\n",
       "<table border=\"1\" class=\"dataframe\">\n",
       "  <thead>\n",
       "    <tr style=\"text-align: right;\">\n",
       "      <th></th>\n",
       "      <th>marital_status</th>\n",
       "    </tr>\n",
       "  </thead>\n",
       "  <tbody>\n",
       "    <tr>\n",
       "      <th>0</th>\n",
       "      <td>1</td>\n",
       "    </tr>\n",
       "    <tr>\n",
       "      <th>1</th>\n",
       "      <td>0</td>\n",
       "    </tr>\n",
       "    <tr>\n",
       "      <th>2</th>\n",
       "      <td>1</td>\n",
       "    </tr>\n",
       "    <tr>\n",
       "      <th>3</th>\n",
       "      <td>0</td>\n",
       "    </tr>\n",
       "    <tr>\n",
       "      <th>4</th>\n",
       "      <td>1</td>\n",
       "    </tr>\n",
       "  </tbody>\n",
       "</table>\n",
       "</div>"
      ],
      "text/plain": [
       "   marital_status\n",
       "0               1\n",
       "1               0\n",
       "2               1\n",
       "3               0\n",
       "4               1"
      ]
     },
     "execution_count": 343,
     "metadata": {},
     "output_type": "execute_result"
    }
   ],
   "source": [
    "Data[[\"marital_status\"]].head(5)"
   ]
  },
  {
   "cell_type": "code",
   "execution_count": 344,
   "id": "f70fdbc2",
   "metadata": {},
   "outputs": [
    {
     "name": "stdout",
     "output_type": "stream",
     "text": [
      "Null Value in Marital Status : 0\n"
     ]
    }
   ],
   "source": [
    "print(\"Null Value in Marital Status :\", Data['marital_status'].isnull().sum())"
   ]
  },
  {
   "cell_type": "code",
   "execution_count": 345,
   "id": "adf8e360",
   "metadata": {},
   "outputs": [
    {
     "name": "stdout",
     "output_type": "stream",
     "text": [
      "Number of Unique Values in Marital Status : 2\n"
     ]
    }
   ],
   "source": [
    "print(\"Number of Unique Values in Marital Status :\", Data['marital_status'].nunique())"
   ]
  },
  {
   "cell_type": "code",
   "execution_count": 346,
   "id": "7b04889c",
   "metadata": {},
   "outputs": [
    {
     "name": "stdout",
     "output_type": "stream",
     "text": [
      "Number of Yes and No in Marital Status are :\n",
      " 1    51444\n",
      "0    37948\n",
      "Name: marital_status, dtype: int64\n"
     ]
    }
   ],
   "source": [
    "print(\"Number of Yes and No in Marital Status are :\\n\", Data['marital_status'].value_counts())"
   ]
  },
  {
   "cell_type": "code",
   "execution_count": 347,
   "id": "c9572a5b",
   "metadata": {},
   "outputs": [
    {
     "data": {
      "image/png": "[encoded data removed]",
      "text/plain": [
       "<Figure size 432x288 with 1 Axes>"
      ]
     },
     "metadata": {},
     "output_type": "display_data"
    }
   ],
   "source": [
    "sns.countplot(x=\"marital_status\", data=Data, palette=\"crest\")\n",
    "plt.show()"
   ]
  },
  {
   "cell_type": "code",
   "execution_count": 348,
   "id": "371a8b76",
   "metadata": {},
   "outputs": [
    {
     "name": "stdout",
     "output_type": "stream",
     "text": [
      "Percentage of Not Married Applicants: 42.45%\n",
      "Percentage of Married Applicants: 57.55%\n"
     ]
    }
   ],
   "source": [
    "countNo = len(Data[Data.marital_status == 0])\n",
    "countYes = len(Data[Data.marital_status == 1])\n",
    "\n",
    "print(\"Percentage of Not Married Applicants: {:.2f}%\".format((countNo / (len(Data.marital_status)))*100))\n",
    "print(\"Percentage of Married Applicants: {:.2f}%\".format((countYes / (len(Data.marital_status)))*100))"
   ]
  },
  {
   "cell_type": "markdown",
   "id": "a5b4288c",
   "metadata": {},
   "source": [
    "#### Vintage"
   ]
  },
  {
   "cell_type": "code",
   "execution_count": 349,
   "id": "c3c1eb6c",
   "metadata": {},
   "outputs": [
    {
     "data": {
      "text/html": [
       "<div>\n",
       "<style scoped>\n",
       "    .dataframe tbody tr th:only-of-type {\n",
       "        vertical-align: middle;\n",
       "    }\n",
       "\n",
       "    .dataframe tbody tr th {\n",
       "        vertical-align: top;\n",
       "    }\n",
       "\n",
       "    .dataframe thead th {\n",
       "        text-align: right;\n",
       "    }\n",
       "</style>\n",
       "<table border=\"1\" class=\"dataframe\">\n",
       "  <thead>\n",
       "    <tr style=\"text-align: right;\">\n",
       "      <th></th>\n",
       "      <th>vintage</th>\n",
       "    </tr>\n",
       "  </thead>\n",
       "  <tbody>\n",
       "    <tr>\n",
       "      <th>0</th>\n",
       "      <td>5</td>\n",
       "    </tr>\n",
       "    <tr>\n",
       "      <th>1</th>\n",
       "      <td>8</td>\n",
       "    </tr>\n",
       "    <tr>\n",
       "      <th>2</th>\n",
       "      <td>8</td>\n",
       "    </tr>\n",
       "    <tr>\n",
       "      <th>3</th>\n",
       "      <td>7</td>\n",
       "    </tr>\n",
       "    <tr>\n",
       "      <th>4</th>\n",
       "      <td>6</td>\n",
       "    </tr>\n",
       "  </tbody>\n",
       "</table>\n",
       "</div>"
      ],
      "text/plain": [
       "   vintage\n",
       "0        5\n",
       "1        8\n",
       "2        8\n",
       "3        7\n",
       "4        6"
      ]
     },
     "execution_count": 349,
     "metadata": {},
     "output_type": "execute_result"
    }
   ],
   "source": [
    "Data[[\"vintage\"]].head(5)"
   ]
  },
  {
   "cell_type": "code",
   "execution_count": 350,
   "id": "0d85f2c8",
   "metadata": {},
   "outputs": [
    {
     "name": "stdout",
     "output_type": "stream",
     "text": [
      "Null Value in Vintage : 0\n"
     ]
    }
   ],
   "source": [
    "print(\"Null Value in Vintage :\", Data['vintage'].isnull().sum())"
   ]
  },
  {
   "cell_type": "code",
   "execution_count": 351,
   "id": "3a98447a",
   "metadata": {},
   "outputs": [
    {
     "name": "stdout",
     "output_type": "stream",
     "text": [
      "Number of Vintages are :\n",
      " 6    17769\n",
      "7    13095\n",
      "5    12481\n",
      "4    10471\n",
      "2     9165\n",
      "1     7671\n",
      "8     7624\n",
      "3     7085\n",
      "0     4031\n",
      "Name: vintage, dtype: int64\n"
     ]
    }
   ],
   "source": [
    "print(\"Number of Vintages are :\\n\", Data['vintage'].value_counts())"
   ]
  },
  {
   "cell_type": "code",
   "execution_count": 352,
   "id": "d7f9bfe9",
   "metadata": {},
   "outputs": [
    {
     "data": {
      "image/png": "[encoded data removed]",
      "text/plain": [
       "<Figure size 432x288 with 1 Axes>"
      ]
     },
     "metadata": {},
     "output_type": "display_data"
    }
   ],
   "source": [
    "sns.countplot(x=\"vintage\", data=Data, palette=\"crest\")\n",
    "plt.show()"
   ]
  },
  {
   "cell_type": "code",
   "execution_count": 353,
   "id": "b587e8d8",
   "metadata": {},
   "outputs": [
    {
     "name": "stdout",
     "output_type": "stream",
     "text": [
      "Percentage of 0 vintage: 4.51%\n",
      "Percentage of 1 vintage: 8.58%\n",
      "Percentage of 2 vintage: 10.25%\n",
      "Percentage of 3 vintage: 7.93%\n",
      "Percentage of 4 vintage: 11.71%\n",
      "Percentage of 5 vintage: 13.96%\n",
      "Percentage of 6 vintage: 19.88%\n",
      "Percentage of 7 vintage: 14.65%\n",
      "Percentage of 8 vintage: 8.53%\n"
     ]
    }
   ],
   "source": [
    "count_0 = len(Data[Data.vintage == 0])\n",
    "count_1 = len(Data[Data.vintage == 1])\n",
    "count_2 = len(Data[Data.vintage == 2])\n",
    "count_3 = len(Data[Data.vintage == 3])\n",
    "count_4 = len(Data[Data.vintage == 4])\n",
    "count_5 = len(Data[Data.vintage == 5])\n",
    "count_6 = len(Data[Data.vintage == 6])\n",
    "count_7 = len(Data[Data.vintage == 7])\n",
    "count_8 = len(Data[Data.vintage == 8])\n",
    "\n",
    "print(\"Percentage of 0 vintage: {:.2f}%\".format((count_0 / (len(Data.vintage)))*100))\n",
    "print(\"Percentage of 1 vintage: {:.2f}%\".format((count_1 / (len(Data.vintage)))*100))\n",
    "print(\"Percentage of 2 vintage: {:.2f}%\".format((count_2 / (len(Data.vintage)))*100))\n",
    "print(\"Percentage of 3 vintage: {:.2f}%\".format((count_3 / (len(Data.vintage)))*100))\n",
    "print(\"Percentage of 4 vintage: {:.2f}%\".format((count_4 / (len(Data.vintage)))*100))\n",
    "print(\"Percentage of 5 vintage: {:.2f}%\".format((count_5 / (len(Data.vintage)))*100))\n",
    "print(\"Percentage of 6 vintage: {:.2f}%\".format((count_6 / (len(Data.vintage)))*100))\n",
    "print(\"Percentage of 7 vintage: {:.2f}%\".format((count_7 / (len(Data.vintage)))*100))\n",
    "print(\"Percentage of 8 vintage: {:.2f}%\".format((count_8 / (len(Data.vintage)))*100))"
   ]
  },
  {
   "cell_type": "markdown",
   "id": "8b047f62",
   "metadata": {},
   "source": [
    "#### Num-Policies"
   ]
  },
  {
   "cell_type": "code",
   "execution_count": 354,
   "id": "d49abd53",
   "metadata": {},
   "outputs": [
    {
     "data": {
      "text/html": [
       "<div>\n",
       "<style scoped>\n",
       "    .dataframe tbody tr th:only-of-type {\n",
       "        vertical-align: middle;\n",
       "    }\n",
       "\n",
       "    .dataframe tbody tr th {\n",
       "        vertical-align: top;\n",
       "    }\n",
       "\n",
       "    .dataframe thead th {\n",
       "        text-align: right;\n",
       "    }\n",
       "</style>\n",
       "<table border=\"1\" class=\"dataframe\">\n",
       "  <thead>\n",
       "    <tr style=\"text-align: right;\">\n",
       "      <th></th>\n",
       "      <th>num_policies</th>\n",
       "    </tr>\n",
       "  </thead>\n",
       "  <tbody>\n",
       "    <tr>\n",
       "      <th>0</th>\n",
       "      <td>More than 1</td>\n",
       "    </tr>\n",
       "    <tr>\n",
       "      <th>1</th>\n",
       "      <td>More than 1</td>\n",
       "    </tr>\n",
       "    <tr>\n",
       "      <th>2</th>\n",
       "      <td>More than 1</td>\n",
       "    </tr>\n",
       "    <tr>\n",
       "      <th>3</th>\n",
       "      <td>More than 1</td>\n",
       "    </tr>\n",
       "    <tr>\n",
       "      <th>4</th>\n",
       "      <td>More than 1</td>\n",
       "    </tr>\n",
       "    <tr>\n",
       "      <th>5</th>\n",
       "      <td>1</td>\n",
       "    </tr>\n",
       "    <tr>\n",
       "      <th>6</th>\n",
       "      <td>More than 1</td>\n",
       "    </tr>\n",
       "    <tr>\n",
       "      <th>7</th>\n",
       "      <td>More than 1</td>\n",
       "    </tr>\n",
       "  </tbody>\n",
       "</table>\n",
       "</div>"
      ],
      "text/plain": [
       "  num_policies\n",
       "0  More than 1\n",
       "1  More than 1\n",
       "2  More than 1\n",
       "3  More than 1\n",
       "4  More than 1\n",
       "5            1\n",
       "6  More than 1\n",
       "7  More than 1"
      ]
     },
     "execution_count": 354,
     "metadata": {},
     "output_type": "execute_result"
    }
   ],
   "source": [
    "Data[[\"num_policies\"]].head(8)"
   ]
  },
  {
   "cell_type": "code",
   "execution_count": 355,
   "id": "c949d378",
   "metadata": {},
   "outputs": [
    {
     "name": "stdout",
     "output_type": "stream",
     "text": [
      "Null Value in Number of Policies Variable are : 0\n"
     ]
    }
   ],
   "source": [
    "print(\"Null Value in Number of Policies Variable are :\", Data['num_policies'].isnull().sum())"
   ]
  },
  {
   "cell_type": "code",
   "execution_count": 356,
   "id": "bb11e3cc",
   "metadata": {},
   "outputs": [
    {
     "name": "stdout",
     "output_type": "stream",
     "text": [
      "Number of Unique Values in Number of Policies Variable are : 2\n"
     ]
    }
   ],
   "source": [
    "print(\"Number of Unique Values in Number of Policies Variable are :\", Data['num_policies'].nunique())"
   ]
  },
  {
   "cell_type": "code",
   "execution_count": 357,
   "id": "e29d4bcc",
   "metadata": {},
   "outputs": [
    {
     "name": "stdout",
     "output_type": "stream",
     "text": [
      "Number of Policies that Applicants hold are :\n",
      " More than 1    60263\n",
      "1              29129\n",
      "Name: num_policies, dtype: int64\n"
     ]
    }
   ],
   "source": [
    "print(\"Number of Policies that Applicants hold are :\\n\", Data['num_policies'].value_counts())"
   ]
  },
  {
   "cell_type": "code",
   "execution_count": 358,
   "id": "9374e404",
   "metadata": {},
   "outputs": [
    {
     "data": {
      "image/png": "[encoded data removed]",
      "text/plain": [
       "<Figure size 432x288 with 1 Axes>"
      ]
     },
     "metadata": {},
     "output_type": "display_data"
    }
   ],
   "source": [
    "sns.countplot(x=\"num_policies\", data=Data, palette=\"cubehelix\")\n",
    "plt.show()"
   ]
  },
  {
   "cell_type": "code",
   "execution_count": 359,
   "id": "36540402",
   "metadata": {},
   "outputs": [
    {
     "name": "stdout",
     "output_type": "stream",
     "text": [
      "Percentage of 1 Policy Holder Applicants: 32.59%\n",
      "Percentage of More than 1 Policy Holder Applicants: 67.41%\n"
     ]
    }
   ],
   "source": [
    "count1 = len(Data[Data.num_policies == '1'])\n",
    "count1more = len(Data[Data.num_policies == 'More than 1'])\n",
    "\n",
    "print(\"Percentage of 1 Policy Holder Applicants: {:.2f}%\".format((count1 / (len(Data.num_policies)))*100))\n",
    "print(\"Percentage of More than 1 Policy Holder Applicants: {:.2f}%\".format((count1more / (len(Data.num_policies)))*100))"
   ]
  },
  {
   "cell_type": "markdown",
   "id": "2b276df4",
   "metadata": {},
   "source": [
    "#### Active Policy of a customer"
   ]
  },
  {
   "cell_type": "code",
   "execution_count": 360,
   "id": "b278ae91",
   "metadata": {},
   "outputs": [
    {
     "data": {
      "text/plain": [
       "0    A\n",
       "1    A\n",
       "2    A\n",
       "3    A\n",
       "4    A\n",
       "5    C\n",
       "6    A\n",
       "7    A\n",
       "8    A\n",
       "9    A\n",
       "Name: policy, dtype: object"
      ]
     },
     "execution_count": 360,
     "metadata": {},
     "output_type": "execute_result"
    }
   ],
   "source": [
    "Data.policy.head(10)"
   ]
  },
  {
   "cell_type": "code",
   "execution_count": 361,
   "id": "c3b23108",
   "metadata": {},
   "outputs": [
    {
     "name": "stdout",
     "output_type": "stream",
     "text": [
      "Null Value in Policy Variable are : 0\n"
     ]
    }
   ],
   "source": [
    "print(\"Null Value in Policy Variable are :\", Data['policy'].isnull().sum())"
   ]
  },
  {
   "cell_type": "code",
   "execution_count": 362,
   "id": "c231cca5",
   "metadata": {},
   "outputs": [
    {
     "name": "stdout",
     "output_type": "stream",
     "text": [
      "Number of Unique Values in Policy Variable : 3\n"
     ]
    }
   ],
   "source": [
    "print(\"Number of Unique Values in Policy Variable :\", Data['policy'].nunique())"
   ]
  },
  {
   "cell_type": "code",
   "execution_count": 363,
   "id": "885365ae",
   "metadata": {},
   "outputs": [
    {
     "name": "stdout",
     "output_type": "stream",
     "text": [
      "Number of A, B, C in Policy are :\n",
      " A    56644\n",
      "B    24635\n",
      "C     8113\n",
      "Name: policy, dtype: int64\n"
     ]
    }
   ],
   "source": [
    "print(\"Number of A, B, C in Policy are :\\n\", Data['policy'].value_counts())"
   ]
  },
  {
   "cell_type": "code",
   "execution_count": 364,
   "id": "bc71ce38",
   "metadata": {},
   "outputs": [
    {
     "data": {
      "image/png": "[encoded data removed]",
      "text/plain": [
       "<Figure size 432x288 with 1 Axes>"
      ]
     },
     "metadata": {},
     "output_type": "display_data"
    }
   ],
   "source": [
    "sns.countplot(x=\"policy\", data=Data, palette=\"viridis\")\n",
    "plt.show()"
   ]
  },
  {
   "cell_type": "code",
   "execution_count": 365,
   "id": "b4e220af",
   "metadata": {},
   "outputs": [
    {
     "name": "stdout",
     "output_type": "stream",
     "text": [
      "Percentage of A Policy Holder Applicants: 63.37%\n",
      "Percentage of B Policy Holder Applicants: 27.56%\n",
      "Percentage of c Policy Holder Applicants: 9.08%\n"
     ]
    }
   ],
   "source": [
    "countA = len(Data[Data.policy == 'A'])\n",
    "countB = len(Data[Data.policy == 'B'])\n",
    "countC = len(Data[Data.policy == 'C'])\n",
    "\n",
    "print(\"Percentage of A Policy Holder Applicants: {:.2f}%\".format((countA / (len(Data.policy)))*100))\n",
    "print(\"Percentage of B Policy Holder Applicants: {:.2f}%\".format((countB / (len(Data.policy)))*100))\n",
    "print(\"Percentage of c Policy Holder Applicants: {:.2f}%\".format((countC / (len(Data.policy)))*100))"
   ]
  },
  {
   "cell_type": "markdown",
   "id": "6323305c",
   "metadata": {},
   "source": [
    "#### Type of Policy"
   ]
  },
  {
   "cell_type": "code",
   "execution_count": 366,
   "id": "0b91c7ce",
   "metadata": {},
   "outputs": [
    {
     "data": {
      "text/html": [
       "<div>\n",
       "<style scoped>\n",
       "    .dataframe tbody tr th:only-of-type {\n",
       "        vertical-align: middle;\n",
       "    }\n",
       "\n",
       "    .dataframe tbody tr th {\n",
       "        vertical-align: top;\n",
       "    }\n",
       "\n",
       "    .dataframe thead th {\n",
       "        text-align: right;\n",
       "    }\n",
       "</style>\n",
       "<table border=\"1\" class=\"dataframe\">\n",
       "  <thead>\n",
       "    <tr style=\"text-align: right;\">\n",
       "      <th></th>\n",
       "      <th>type_of_policy</th>\n",
       "    </tr>\n",
       "  </thead>\n",
       "  <tbody>\n",
       "    <tr>\n",
       "      <th>0</th>\n",
       "      <td>Platinum</td>\n",
       "    </tr>\n",
       "    <tr>\n",
       "      <th>1</th>\n",
       "      <td>Platinum</td>\n",
       "    </tr>\n",
       "    <tr>\n",
       "      <th>2</th>\n",
       "      <td>Platinum</td>\n",
       "    </tr>\n",
       "    <tr>\n",
       "      <th>3</th>\n",
       "      <td>Platinum</td>\n",
       "    </tr>\n",
       "    <tr>\n",
       "      <th>4</th>\n",
       "      <td>Gold</td>\n",
       "    </tr>\n",
       "  </tbody>\n",
       "</table>\n",
       "</div>"
      ],
      "text/plain": [
       "  type_of_policy\n",
       "0       Platinum\n",
       "1       Platinum\n",
       "2       Platinum\n",
       "3       Platinum\n",
       "4           Gold"
      ]
     },
     "execution_count": 366,
     "metadata": {},
     "output_type": "execute_result"
    }
   ],
   "source": [
    "df[[\"type_of_policy\"]].head()"
   ]
  },
  {
   "cell_type": "code",
   "execution_count": 367,
   "id": "89dd9d63",
   "metadata": {},
   "outputs": [
    {
     "name": "stdout",
     "output_type": "stream",
     "text": [
      "Null Value in Types of Policy Variable are : 0\n"
     ]
    }
   ],
   "source": [
    "print(\"Null Value in Types of Policy Variable are :\", Data['type_of_policy'].isnull().sum())"
   ]
  },
  {
   "cell_type": "code",
   "execution_count": 368,
   "id": "7e5bbfd7",
   "metadata": {},
   "outputs": [
    {
     "name": "stdout",
     "output_type": "stream",
     "text": [
      "Number of Unique Values in Types of Policy Variable are : 3\n"
     ]
    }
   ],
   "source": [
    "print(\"Number of Unique Values in Types of Policy Variable are :\", Data['type_of_policy'].nunique())"
   ]
  },
  {
   "cell_type": "code",
   "execution_count": 369,
   "id": "dd769882",
   "metadata": {},
   "outputs": [
    {
     "name": "stdout",
     "output_type": "stream",
     "text": [
      "Number of Platinum, Gold and Silver in Policy are :\n",
      " Platinum    47796\n",
      "Silver      21010\n",
      "Gold        20586\n",
      "Name: type_of_policy, dtype: int64\n"
     ]
    }
   ],
   "source": [
    "print(\"Number of Platinum, Gold and Silver in Policy are :\\n\", Data['type_of_policy'].value_counts())"
   ]
  },
  {
   "cell_type": "code",
   "execution_count": 370,
   "id": "924c35a9",
   "metadata": {},
   "outputs": [
    {
     "data": {
      "image/png": "[encoded data removed]",
      "text/plain": [
       "<Figure size 432x288 with 1 Axes>"
      ]
     },
     "metadata": {},
     "output_type": "display_data"
    }
   ],
   "source": [
    "sns.countplot(x = \"type_of_policy\", data = Data, palette = \"Paired\")\n",
    "plt.show()"
   ]
  },
  {
   "cell_type": "code",
   "execution_count": 371,
   "id": "f0d6dd8c",
   "metadata": {},
   "outputs": [
    {
     "name": "stdout",
     "output_type": "stream",
     "text": [
      "Percentage of Platinum Policy holder Applicants: 53.47%\n",
      "Percentage of Gold Policy holder Applicants: 23.03%\n",
      "Percentage of Silver Policy holder Applicants: 23.50%\n"
     ]
    }
   ],
   "source": [
    "countPlatinum = len(Data[Data.type_of_policy == 'Platinum'])\n",
    "countGold = len(Data[Data.type_of_policy == 'Gold'])\n",
    "countSilver = len(Data[Data.type_of_policy == 'Silver'])\n",
    "\n",
    "print(\"Percentage of Platinum Policy holder Applicants: {:.2f}%\".format((countPlatinum / (len(Data.type_of_policy)))*100))\n",
    "print(\"Percentage of Gold Policy holder Applicants: {:.2f}%\".format((countGold / (len(Data.type_of_policy)))*100))\n",
    "print(\"Percentage of Silver Policy holder Applicants: {:.2f}%\".format((countSilver / (len(Data.type_of_policy)))*100))"
   ]
  },
  {
   "cell_type": "markdown",
   "id": "4915fb17",
   "metadata": {},
   "source": [
    "### Numerical Variable in Train Data"
   ]
  },
  {
   "cell_type": "markdown",
   "id": "13b9e6f4",
   "metadata": {},
   "source": [
    "#### Claim Amount"
   ]
  },
  {
   "cell_type": "code",
   "execution_count": 372,
   "id": "60bde36b",
   "metadata": {},
   "outputs": [
    {
     "data": {
      "text/html": [
       "<div>\n",
       "<style scoped>\n",
       "    .dataframe tbody tr th:only-of-type {\n",
       "        vertical-align: middle;\n",
       "    }\n",
       "\n",
       "    .dataframe tbody tr th {\n",
       "        vertical-align: top;\n",
       "    }\n",
       "\n",
       "    .dataframe thead th {\n",
       "        text-align: right;\n",
       "    }\n",
       "</style>\n",
       "<table border=\"1\" class=\"dataframe\">\n",
       "  <thead>\n",
       "    <tr style=\"text-align: right;\">\n",
       "      <th></th>\n",
       "      <th>claim_amount</th>\n",
       "    </tr>\n",
       "  </thead>\n",
       "  <tbody>\n",
       "    <tr>\n",
       "      <th>0</th>\n",
       "      <td>5790</td>\n",
       "    </tr>\n",
       "    <tr>\n",
       "      <th>1</th>\n",
       "      <td>5080</td>\n",
       "    </tr>\n",
       "    <tr>\n",
       "      <th>2</th>\n",
       "      <td>2599</td>\n",
       "    </tr>\n",
       "    <tr>\n",
       "      <th>3</th>\n",
       "      <td>0</td>\n",
       "    </tr>\n",
       "    <tr>\n",
       "      <th>4</th>\n",
       "      <td>3508</td>\n",
       "    </tr>\n",
       "  </tbody>\n",
       "</table>\n",
       "</div>"
      ],
      "text/plain": [
       "   claim_amount\n",
       "0          5790\n",
       "1          5080\n",
       "2          2599\n",
       "3             0\n",
       "4          3508"
      ]
     },
     "execution_count": 372,
     "metadata": {},
     "output_type": "execute_result"
    }
   ],
   "source": [
    "df[[\"claim_amount\"]].head()"
   ]
  },
  {
   "cell_type": "code",
   "execution_count": 373,
   "id": "0762495e",
   "metadata": {},
   "outputs": [
    {
     "name": "stdout",
     "output_type": "stream",
     "text": [
      "Null Value in Claim Amount : 0\n"
     ]
    }
   ],
   "source": [
    "print(\"Null Value in Claim Amount :\", Data['claim_amount'].isnull().sum())"
   ]
  },
  {
   "cell_type": "code",
   "execution_count": 374,
   "id": "2f9e9e99",
   "metadata": {},
   "outputs": [
    {
     "name": "stdout",
     "output_type": "stream",
     "text": [
      "Number of Unique Values in Claim Amount : 10889\n"
     ]
    }
   ],
   "source": [
    "print(\"Number of Unique Values in Claim Amount :\", Data['claim_amount'].nunique())"
   ]
  },
  {
   "cell_type": "code",
   "execution_count": 375,
   "id": "0ae7ea35",
   "metadata": {},
   "outputs": [
    {
     "name": "stdout",
     "output_type": "stream",
     "text": [
      "count    89392.000000\n",
      "mean      4351.502416\n",
      "std       3262.359775\n",
      "min          0.000000\n",
      "25%       2406.000000\n",
      "50%       4089.000000\n",
      "75%       6094.000000\n",
      "max      31894.000000\n",
      "Name: claim_amount, dtype: float64\n"
     ]
    }
   ],
   "source": [
    "print(Data['claim_amount'].describe())"
   ]
  },
  {
   "cell_type": "code",
   "execution_count": 376,
   "id": "43c8eda1",
   "metadata": {},
   "outputs": [
    {
     "data": {
      "text/plain": [
       "Text(0.5, 0, 'Claim Amount')"
      ]
     },
     "execution_count": 376,
     "metadata": {},
     "output_type": "execute_result"
    },
    {
     "data": {
      "image/png": "[encoded data removed]",
      "text/plain": [
       "<Figure size 720x576 with 1 Axes>"
      ]
     },
     "metadata": {},
     "output_type": "display_data"
    }
   ],
   "source": [
    "sns.set(style=\"darkgrid\")\n",
    "fig, ax = plt.subplots(figsize=(10, 8))\n",
    "sns.histplot(data=Data, x=\"claim_amount\", kde=True, color='green')\n",
    "ax.set_title('Histogram of Claim Amount')\n",
    "ax.set_xlabel('Claim Amount')"
   ]
  },
  {
   "cell_type": "code",
   "execution_count": 377,
   "id": "39632f6f",
   "metadata": {},
   "outputs": [
    {
     "data": {
      "text/plain": [
       "Text(0, 0.5, 'Claim Amount')"
      ]
     },
     "execution_count": 377,
     "metadata": {},
     "output_type": "execute_result"
    },
    {
     "data": {
      "image/png": "[encoded data removed]",
      "text/plain": [
       "<Figure size 720x720 with 1 Axes>"
      ]
     },
     "metadata": {},
     "output_type": "display_data"
    }
   ],
   "source": [
    "sns.set(style=\"darkgrid\")\n",
    "fig, ax = plt.subplots(figsize=(10, 10))\n",
    "sns.boxplot(x=\"claim_amount\", data = Data, color='green')\n",
    "ax.set_title('Boxplot of Claim Amount')\n",
    "ax.set_xlabel('Count')\n",
    "ax.set_ylabel('Claim Amount')"
   ]
  },
  {
   "cell_type": "code",
   "execution_count": 378,
   "id": "845fe9d0",
   "metadata": {},
   "outputs": [
    {
     "name": "stdout",
     "output_type": "stream",
     "text": [
      "Percentage of Not Null Values: 100.00%\n",
      "Missing values percentage: 0.00%\n"
     ]
    }
   ],
   "source": [
    "count_NotNullValues_claimamount = len(Data[Data.claim_amount.notnull()])\n",
    "count_NullValues_claimamount = len(Data[Data.claim_amount.isnull()])\n",
    "\n",
    "print(\"Percentage of Not Null Values: {:.2f}%\".format((count_NotNullValues_claimamount / (len(Data.claim_amount)))*100))\n",
    "print(\"Missing values percentage: {:.2f}%\".format((count_NullValues_claimamount / (len(Data.claim_amount)))*100))"
   ]
  },
  {
   "cell_type": "markdown",
   "id": "4d7dfe8b",
   "metadata": {},
   "source": [
    "## Bi Variate Analysis"
   ]
  },
  {
   "cell_type": "code",
   "execution_count": 686,
   "id": "6e8094da",
   "metadata": {},
   "outputs": [],
   "source": [
    "cols = ['gender', 'area', 'qualification', 'income', 'marital_status','vintage', 'num_policies', 'policy', 'type_of_policy']"
   ]
  },
  {
   "cell_type": "code",
   "execution_count": 687,
   "id": "1d61499f",
   "metadata": {},
   "outputs": [
    {
     "data": {
      "image/png": "[encoded data removed]",
      "text/plain": [
       "<Figure size 432x288 with 1 Axes>"
      ]
     },
     "metadata": {},
     "output_type": "display_data"
    },
    {
     "data": {
      "image/png": "[encoded data removed]",
      "text/plain": [
       "<Figure size 432x288 with 1 Axes>"
      ]
     },
     "metadata": {},
     "output_type": "display_data"
    },
    {
     "data": {
      "image/png": "[encoded data removed]",
      "text/plain": [
       "<Figure size 432x288 with 1 Axes>"
      ]
     },
     "metadata": {},
     "output_type": "display_data"
    },
    {
     "data": {
      "image/png": "[encoded data removed]",
      "text/plain": [
       "<Figure size 432x288 with 1 Axes>"
      ]
     },
     "metadata": {},
     "output_type": "display_data"
    },
    {
     "data": {
      "image/png": "[encoded data removed]",
      "text/plain": [
       "<Figure size 432x288 with 1 Axes>"
      ]
     },
     "metadata": {},
     "output_type": "display_data"
    },
    {
     "data": {
      "image/png": "[encoded data removed]",
      "text/plain": [
       "<Figure size 432x288 with 1 Axes>"
      ]
     },
     "metadata": {},
     "output_type": "display_data"
    },
    {
     "data": {
      "image/png": "[encoded data removed]",
      "text/plain": [
       "<Figure size 432x288 with 1 Axes>"
      ]
     },
     "metadata": {},
     "output_type": "display_data"
    },
    {
     "data": {
      "image/png": "[encoded data removed]",
      "text/plain": [
       "<Figure size 432x288 with 1 Axes>"
      ]
     },
     "metadata": {},
     "output_type": "display_data"
    },
    {
     "data": {
      "image/png": "[encoded data removed]",
      "text/plain": [
       "<Figure size 432x288 with 1 Axes>"
      ]
     },
     "metadata": {},
     "output_type": "display_data"
    }
   ],
   "source": [
    "for i in cols:\n",
    "    sns.barplot(x = i,y='cltv',data = Data)\n",
    "    plt.show()"
   ]
  },
  {
   "cell_type": "markdown",
   "id": "38023aa0",
   "metadata": {},
   "source": [
    "Customer Lifetime Value is different for every variable expect Gender , as we can also see that visually which make's sense. Our mode is not biased based on gender, but still we can see that the average customer lifetime value is the same for both male and female."
   ]
  },
  {
   "cell_type": "code",
   "execution_count": 689,
   "id": "a5e329c4",
   "metadata": {},
   "outputs": [
    {
     "data": {
      "image/png": "[encoded data removed]",
      "text/plain": [
       "<Figure size 432x288 with 1 Axes>"
      ]
     },
     "metadata": {},
     "output_type": "display_data"
    }
   ],
   "source": [
    "ax = sns.scatterplot(y='cltv', x='claim_amount',data = Data)\n",
    "plt.show()"
   ]
  },
  {
   "cell_type": "markdown",
   "id": "91bc4086",
   "metadata": {},
   "source": [
    "We can clearly see that no linear relationship between claim amount and cltv."
   ]
  },
  {
   "cell_type": "code",
   "execution_count": 690,
   "id": "f524cb17",
   "metadata": {
    "scrolled": true
   },
   "outputs": [
    {
     "data": {
      "image/png": "[encoded data removed]",
      "text/plain": [
       "<Figure size 432x288 with 2 Axes>"
      ]
     },
     "metadata": {},
     "output_type": "display_data"
    }
   ],
   "source": [
    "sns.heatmap(Data[['claim_amount', 'cltv']].corr(),annot = True)\n",
    "plt.show()"
   ]
  },
  {
   "cell_type": "markdown",
   "id": "63a45a3a",
   "metadata": {},
   "source": [
    "## Treatment of outliers"
   ]
  },
  {
   "cell_type": "code",
   "execution_count": 692,
   "id": "afa8cd43",
   "metadata": {},
   "outputs": [],
   "source": [
    "data_copy = Data.copy()"
   ]
  },
  {
   "cell_type": "code",
   "execution_count": 693,
   "id": "96d58213",
   "metadata": {},
   "outputs": [
    {
     "name": "stdout",
     "output_type": "stream",
     "text": [
      "Outliers from IQR method:  2.525953105423304\n"
     ]
    }
   ],
   "source": [
    "outliers = []\n",
    "def detect_outliers_iqr(data_copy):\n",
    "    data_copy = sorted(data_copy)\n",
    "    q1 = np.percentile(data_copy, 25)\n",
    "    q3 = np.percentile(data_copy, 75)\n",
    "    # print(q1, q3)\n",
    "    IQR = q3-q1\n",
    "    lwr_bound = q1-(1.5*IQR)\n",
    "    upr_bound = q3+(1.5*IQR)\n",
    "    # print(lwr_bound, upr_bound)\n",
    "    for i in data_copy: \n",
    "        if (i<lwr_bound or i>upr_bound):\n",
    "            outliers.append(i)\n",
    "    return outliers# Driver code\n",
    "sample_outliers = detect_outliers_iqr(data_copy[\"claim_amount\"])\n",
    "print(\"Outliers from IQR method: \", (len(sample_outliers)/data_copy.shape[0])*100)"
   ]
  },
  {
   "cell_type": "code",
   "execution_count": 694,
   "id": "888be5f2",
   "metadata": {},
   "outputs": [],
   "source": [
    "q1 = np.percentile(sorted(data_copy['claim_amount']), 25)\n",
    "q3 = np.percentile(sorted(data_copy['claim_amount']), 75)\n",
    "IQR = q3-q1\n",
    "lwr_bound = q1-(1.5*IQR)\n",
    "upr_bound = q3+(1.5*IQR)"
   ]
  },
  {
   "cell_type": "code",
   "execution_count": 698,
   "id": "0d877504",
   "metadata": {},
   "outputs": [],
   "source": [
    "data_copy[\"claim_amount\"]=np.where((data_copy[\"claim_amount\"]>upr_bound),data_copy[\"claim_amount\"].median(),data_copy[\"claim_amount\"])"
   ]
  },
  {
   "cell_type": "code",
   "execution_count": 699,
   "id": "30639d34",
   "metadata": {},
   "outputs": [],
   "source": [
    "data_copy[\"claim_amount\"]=np.where((data_copy[\"claim_amount\"]<lwr_bound),data_copy[\"claim_amount\"].median(),data_copy[\"claim_amount\"])"
   ]
  },
  {
   "cell_type": "code",
   "execution_count": 700,
   "id": "fd9fcdcc",
   "metadata": {},
   "outputs": [
    {
     "name": "stdout",
     "output_type": "stream",
     "text": [
      "Outliers from IQR method:  0.4508233398961876\n"
     ]
    }
   ],
   "source": [
    "outliers = []\n",
    "def detect_outliers_iqr(data_copy):\n",
    "    data_copy = sorted(data_copy)\n",
    "    q1 = np.percentile(data_copy, 25)\n",
    "    q3 = np.percentile(data_copy, 75)\n",
    "    # print(q1, q3)\n",
    "    IQR = q3-q1\n",
    "    lwr_bound = q1-(1.5*IQR)\n",
    "    upr_bound = q3+(1.5*IQR)\n",
    "    # print(lwr_bound, upr_bound)\n",
    "    for i in data_copy: \n",
    "        if (i<lwr_bound or i>upr_bound):\n",
    "            outliers.append(i)\n",
    "    return outliers# Driver code\n",
    "sample_outliers = detect_outliers_iqr(data_copy[\"claim_amount\"])\n",
    "print(\"Outliers from IQR method: \", (len(sample_outliers)/data_copy.shape[0])*100)"
   ]
  },
  {
   "cell_type": "markdown",
   "id": "01a0ddda",
   "metadata": {},
   "source": [
    "Still there are some outliers left"
   ]
  },
  {
   "cell_type": "code",
   "execution_count": 878,
   "id": "5aed192f",
   "metadata": {},
   "outputs": [
    {
     "name": "stdout",
     "output_type": "stream",
     "text": [
      "Column cltv outliers = 11.44%\n"
     ]
    }
   ],
   "source": [
    "#% outliers\n",
    "for k, v in tips_ds_rs_df.items():\n",
    "        q1 = v.quantile(0.25)\n",
    "        q3 = v.quantile(0.75)\n",
    "        irq = q3 - q1\n",
    "        v_col = v[(v <= q1 - 1.5 * irq) | (v >= q3 + 1.5 * irq)]\n",
    "        perc = np.shape(v_col)[0] * 100.0 / np.shape(tips_ds_rs_df)[0]\n",
    "        print(\"Column %s outliers = %.2f%%\" % (k, perc))"
   ]
  },
  {
   "cell_type": "markdown",
   "id": "f12df652",
   "metadata": {},
   "source": [
    "Target Column has outlier but we cannot treat this."
   ]
  },
  {
   "cell_type": "markdown",
   "id": "f3c73afd",
   "metadata": {},
   "source": [
    "## Encoding"
   ]
  },
  {
   "cell_type": "code",
   "execution_count": 701,
   "id": "66e8c26d",
   "metadata": {},
   "outputs": [],
   "source": [
    "data_copy = pd.get_dummies(data_copy, drop_first= True)"
   ]
  },
  {
   "cell_type": "code",
   "execution_count": 702,
   "id": "2d2e73bb",
   "metadata": {},
   "outputs": [
    {
     "data": {
      "text/html": [
       "<div>\n",
       "<style scoped>\n",
       "    .dataframe tbody tr th:only-of-type {\n",
       "        vertical-align: middle;\n",
       "    }\n",
       "\n",
       "    .dataframe tbody tr th {\n",
       "        vertical-align: top;\n",
       "    }\n",
       "\n",
       "    .dataframe thead th {\n",
       "        text-align: right;\n",
       "    }\n",
       "</style>\n",
       "<table border=\"1\" class=\"dataframe\">\n",
       "  <thead>\n",
       "    <tr style=\"text-align: right;\">\n",
       "      <th></th>\n",
       "      <th>marital_status</th>\n",
       "      <th>vintage</th>\n",
       "      <th>claim_amount</th>\n",
       "      <th>cltv</th>\n",
       "      <th>gender_Male</th>\n",
       "      <th>area_Urban</th>\n",
       "      <th>qualification_High School</th>\n",
       "      <th>qualification_Others</th>\n",
       "      <th>income_5L-10L</th>\n",
       "      <th>income_&lt;=2L</th>\n",
       "      <th>income_More than 10L</th>\n",
       "      <th>num_policies_More than 1</th>\n",
       "      <th>policy_B</th>\n",
       "      <th>policy_C</th>\n",
       "      <th>type_of_policy_Platinum</th>\n",
       "      <th>type_of_policy_Silver</th>\n",
       "    </tr>\n",
       "  </thead>\n",
       "  <tbody>\n",
       "    <tr>\n",
       "      <th>0</th>\n",
       "      <td>1</td>\n",
       "      <td>5</td>\n",
       "      <td>5790.0</td>\n",
       "      <td>64308</td>\n",
       "      <td>1</td>\n",
       "      <td>1</td>\n",
       "      <td>0</td>\n",
       "      <td>0</td>\n",
       "      <td>1</td>\n",
       "      <td>0</td>\n",
       "      <td>0</td>\n",
       "      <td>1</td>\n",
       "      <td>0</td>\n",
       "      <td>0</td>\n",
       "      <td>1</td>\n",
       "      <td>0</td>\n",
       "    </tr>\n",
       "    <tr>\n",
       "      <th>1</th>\n",
       "      <td>0</td>\n",
       "      <td>8</td>\n",
       "      <td>5080.0</td>\n",
       "      <td>515400</td>\n",
       "      <td>1</td>\n",
       "      <td>0</td>\n",
       "      <td>1</td>\n",
       "      <td>0</td>\n",
       "      <td>1</td>\n",
       "      <td>0</td>\n",
       "      <td>0</td>\n",
       "      <td>1</td>\n",
       "      <td>0</td>\n",
       "      <td>0</td>\n",
       "      <td>1</td>\n",
       "      <td>0</td>\n",
       "    </tr>\n",
       "    <tr>\n",
       "      <th>2</th>\n",
       "      <td>1</td>\n",
       "      <td>8</td>\n",
       "      <td>2599.0</td>\n",
       "      <td>64212</td>\n",
       "      <td>1</td>\n",
       "      <td>1</td>\n",
       "      <td>0</td>\n",
       "      <td>0</td>\n",
       "      <td>1</td>\n",
       "      <td>0</td>\n",
       "      <td>0</td>\n",
       "      <td>1</td>\n",
       "      <td>0</td>\n",
       "      <td>0</td>\n",
       "      <td>1</td>\n",
       "      <td>0</td>\n",
       "    </tr>\n",
       "    <tr>\n",
       "      <th>3</th>\n",
       "      <td>0</td>\n",
       "      <td>7</td>\n",
       "      <td>0.0</td>\n",
       "      <td>97920</td>\n",
       "      <td>0</td>\n",
       "      <td>0</td>\n",
       "      <td>1</td>\n",
       "      <td>0</td>\n",
       "      <td>1</td>\n",
       "      <td>0</td>\n",
       "      <td>0</td>\n",
       "      <td>1</td>\n",
       "      <td>0</td>\n",
       "      <td>0</td>\n",
       "      <td>1</td>\n",
       "      <td>0</td>\n",
       "    </tr>\n",
       "    <tr>\n",
       "      <th>4</th>\n",
       "      <td>1</td>\n",
       "      <td>6</td>\n",
       "      <td>3508.0</td>\n",
       "      <td>59736</td>\n",
       "      <td>1</td>\n",
       "      <td>1</td>\n",
       "      <td>1</td>\n",
       "      <td>0</td>\n",
       "      <td>0</td>\n",
       "      <td>0</td>\n",
       "      <td>1</td>\n",
       "      <td>1</td>\n",
       "      <td>0</td>\n",
       "      <td>0</td>\n",
       "      <td>0</td>\n",
       "      <td>0</td>\n",
       "    </tr>\n",
       "  </tbody>\n",
       "</table>\n",
       "</div>"
      ],
      "text/plain": [
       "   marital_status  vintage  claim_amount    cltv  gender_Male  area_Urban  \\\n",
       "0               1        5        5790.0   64308            1           1   \n",
       "1               0        8        5080.0  515400            1           0   \n",
       "2               1        8        2599.0   64212            1           1   \n",
       "3               0        7           0.0   97920            0           0   \n",
       "4               1        6        3508.0   59736            1           1   \n",
       "\n",
       "   qualification_High School  qualification_Others  income_5L-10L  \\\n",
       "0                          0                     0              1   \n",
       "1                          1                     0              1   \n",
       "2                          0                     0              1   \n",
       "3                          1                     0              1   \n",
       "4                          1                     0              0   \n",
       "\n",
       "   income_<=2L  income_More than 10L  num_policies_More than 1  policy_B  \\\n",
       "0            0                     0                         1         0   \n",
       "1            0                     0                         1         0   \n",
       "2            0                     0                         1         0   \n",
       "3            0                     0                         1         0   \n",
       "4            0                     1                         1         0   \n",
       "\n",
       "   policy_C  type_of_policy_Platinum  type_of_policy_Silver  \n",
       "0         0                        1                      0  \n",
       "1         0                        1                      0  \n",
       "2         0                        1                      0  \n",
       "3         0                        1                      0  \n",
       "4         0                        0                      0  "
      ]
     },
     "execution_count": 702,
     "metadata": {},
     "output_type": "execute_result"
    }
   ],
   "source": [
    "data_copy.head()"
   ]
  },
  {
   "cell_type": "markdown",
   "id": "bb3d77e9",
   "metadata": {},
   "source": [
    "## Correlation"
   ]
  },
  {
   "cell_type": "code",
   "execution_count": 706,
   "id": "6f288237",
   "metadata": {
    "scrolled": true
   },
   "outputs": [
    {
     "data": {
      "text/plain": [
       "<AxesSubplot:>"
      ]
     },
     "execution_count": 706,
     "metadata": {},
     "output_type": "execute_result"
    },
    {
     "data": {
      "image/png": "[encoded data removed]",
      "text/plain": [
       "<Figure size 1080x864 with 2 Axes>"
      ]
     },
     "metadata": {},
     "output_type": "display_data"
    }
   ],
   "source": [
    "plt.figure(figsize=(15,12))\n",
    "sns.heatmap(data_copy.corr(), annot=True, fmt= '.2f', cmap='BrBG', linewidths = 2)"
   ]
  },
  {
   "cell_type": "code",
   "execution_count": 873,
   "id": "a070f063",
   "metadata": {
    "scrolled": true
   },
   "outputs": [
    {
     "data": {
      "text/plain": [
       "marital_status              -0.077744\n",
       "vintage                      0.020608\n",
       "claim_amount                 0.171829\n",
       "cltv                         1.000000\n",
       "gender_Male                 -0.001318\n",
       "area_Urban                   0.133107\n",
       "qualification_High School    0.013329\n",
       "qualification_Others        -0.046898\n",
       "income_5L-10L               -0.038249\n",
       "income_<=2L                  0.021668\n",
       "income_More than 10L        -0.039879\n",
       "num_policies_More than 1     0.360414\n",
       "policy_B                    -0.058261\n",
       "policy_C                     0.031613\n",
       "type_of_policy_Platinum      0.021295\n",
       "type_of_policy_Silver       -0.033617\n",
       "Name: cltv, dtype: float64"
      ]
     },
     "execution_count": 873,
     "metadata": {},
     "output_type": "execute_result"
    }
   ],
   "source": [
    "data_copy.corr()['cltv']"
   ]
  },
  {
   "cell_type": "markdown",
   "id": "8c99712d",
   "metadata": {},
   "source": [
    "## Train Test Split"
   ]
  },
  {
   "cell_type": "code",
   "execution_count": 939,
   "id": "6b214bf0",
   "metadata": {},
   "outputs": [
    {
     "data": {
      "text/plain": [
       "((62574, 15), (26818, 15))"
      ]
     },
     "execution_count": 939,
     "metadata": {},
     "output_type": "execute_result"
    }
   ],
   "source": [
    "from sklearn.model_selection import train_test_split\n",
    "xtrain,xtest,ytrain,ytest = train_test_split(X,y,test_size=0.3)\n",
    "xtrain.shape, xtest.shape"
   ]
  },
  {
   "cell_type": "markdown",
   "id": "492c358b",
   "metadata": {},
   "source": [
    "## Regression"
   ]
  },
  {
   "cell_type": "markdown",
   "id": "66dcf3a2",
   "metadata": {},
   "source": [
    "### Base Model"
   ]
  },
  {
   "cell_type": "code",
   "execution_count": 719,
   "id": "c8fefa4c",
   "metadata": {},
   "outputs": [],
   "source": [
    "import statsmodels.api as sm\n",
    "from statsmodels.formula.api import ols\n",
    "import scipy.stats as stats"
   ]
  },
  {
   "cell_type": "code",
   "execution_count": 882,
   "id": "174c29ba",
   "metadata": {},
   "outputs": [],
   "source": [
    "X = data_copy.drop(['cltv'], axis = 1)\n",
    "y = data_copy[['cltv']]"
   ]
  },
  {
   "cell_type": "code",
   "execution_count": 883,
   "id": "34ecd34b",
   "metadata": {
    "scrolled": false
   },
   "outputs": [
    {
     "data": {
      "text/html": [
       "<table class=\"simpletable\">\n",
       "<caption>OLS Regression Results</caption>\n",
       "<tr>\n",
       "  <th>Dep. Variable:</th>          <td>cltv</td>       <th>  R-squared:         </th>  <td>   0.151</td>  \n",
       "</tr>\n",
       "<tr>\n",
       "  <th>Model:</th>                   <td>OLS</td>       <th>  Adj. R-squared:    </th>  <td>   0.151</td>  \n",
       "</tr>\n",
       "<tr>\n",
       "  <th>Method:</th>             <td>Least Squares</td>  <th>  F-statistic:       </th>  <td>   1059.</td>  \n",
       "</tr>\n",
       "<tr>\n",
       "  <th>Date:</th>             <td>Sun, 22 Jan 2023</td> <th>  Prob (F-statistic):</th>   <td>  0.00</td>   \n",
       "</tr>\n",
       "<tr>\n",
       "  <th>Time:</th>                 <td>21:43:06</td>     <th>  Log-Likelihood:    </th> <td>-1.1399e+06</td>\n",
       "</tr>\n",
       "<tr>\n",
       "  <th>No. Observations:</th>      <td> 89392</td>      <th>  AIC:               </th>  <td>2.280e+06</td> \n",
       "</tr>\n",
       "<tr>\n",
       "  <th>Df Residuals:</th>          <td> 89376</td>      <th>  BIC:               </th>  <td>2.280e+06</td> \n",
       "</tr>\n",
       "<tr>\n",
       "  <th>Df Model:</th>              <td>    15</td>      <th>                     </th>      <td> </td>     \n",
       "</tr>\n",
       "<tr>\n",
       "  <th>Covariance Type:</th>      <td>nonrobust</td>    <th>                     </th>      <td> </td>     \n",
       "</tr>\n",
       "</table>\n",
       "<table class=\"simpletable\">\n",
       "<tr>\n",
       "              <td></td>                 <th>coef</th>     <th>std err</th>      <th>t</th>      <th>P>|t|</th>  <th>[0.025</th>    <th>0.975]</th>  \n",
       "</tr>\n",
       "<tr>\n",
       "  <th>const</th>                     <td> 4.626e+04</td> <td> 1380.792</td> <td>   33.505</td> <td> 0.000</td> <td> 4.36e+04</td> <td>  4.9e+04</td>\n",
       "</tr>\n",
       "<tr>\n",
       "  <th>marital_status</th>            <td>-7526.5092</td> <td>  572.465</td> <td>  -13.148</td> <td> 0.000</td> <td>-8648.535</td> <td>-6404.483</td>\n",
       "</tr>\n",
       "<tr>\n",
       "  <th>vintage</th>                   <td>  234.0869</td> <td>  122.700</td> <td>    1.908</td> <td> 0.056</td> <td>   -6.404</td> <td>  474.577</td>\n",
       "</tr>\n",
       "<tr>\n",
       "  <th>claim_amount</th>              <td>    2.9621</td> <td>    0.119</td> <td>   24.813</td> <td> 0.000</td> <td>    2.728</td> <td>    3.196</td>\n",
       "</tr>\n",
       "<tr>\n",
       "  <th>gender_Male</th>               <td> 2578.7993</td> <td>  568.038</td> <td>    4.540</td> <td> 0.000</td> <td> 1465.449</td> <td> 3692.149</td>\n",
       "</tr>\n",
       "<tr>\n",
       "  <th>area_Urban</th>                <td> 6297.0531</td> <td>  714.877</td> <td>    8.809</td> <td> 0.000</td> <td> 4895.901</td> <td> 7698.206</td>\n",
       "</tr>\n",
       "<tr>\n",
       "  <th>qualification_High School</th> <td> -925.3243</td> <td>  576.605</td> <td>   -1.605</td> <td> 0.109</td> <td>-2055.464</td> <td>  204.816</td>\n",
       "</tr>\n",
       "<tr>\n",
       "  <th>qualification_Others</th>      <td>-8018.5734</td> <td> 1432.976</td> <td>   -5.596</td> <td> 0.000</td> <td>-1.08e+04</td> <td>-5209.954</td>\n",
       "</tr>\n",
       "<tr>\n",
       "  <th>income_5L-10L</th>             <td>-4921.2259</td> <td>  704.033</td> <td>   -6.990</td> <td> 0.000</td> <td>-6301.124</td> <td>-3541.328</td>\n",
       "</tr>\n",
       "<tr>\n",
       "  <th>income_<=2L</th>               <td>-4712.0566</td> <td> 2029.718</td> <td>   -2.322</td> <td> 0.020</td> <td>-8690.286</td> <td> -733.828</td>\n",
       "</tr>\n",
       "<tr>\n",
       "  <th>income_More than 10L</th>      <td>-6899.1849</td> <td>  950.509</td> <td>   -7.258</td> <td> 0.000</td> <td>-8762.173</td> <td>-5036.197</td>\n",
       "</tr>\n",
       "<tr>\n",
       "  <th>num_policies_More than 1</th>  <td> 6.532e+04</td> <td>  610.159</td> <td>  107.057</td> <td> 0.000</td> <td> 6.41e+04</td> <td> 6.65e+04</td>\n",
       "</tr>\n",
       "<tr>\n",
       "  <th>policy_B</th>                  <td>-7584.5282</td> <td>  669.236</td> <td>  -11.333</td> <td> 0.000</td> <td>-8896.225</td> <td>-6272.831</td>\n",
       "</tr>\n",
       "<tr>\n",
       "  <th>policy_C</th>                  <td> 9871.6565</td> <td>  995.999</td> <td>    9.911</td> <td> 0.000</td> <td> 7919.507</td> <td> 1.18e+04</td>\n",
       "</tr>\n",
       "<tr>\n",
       "  <th>type_of_policy_Platinum</th>   <td> -751.1945</td> <td>  698.217</td> <td>   -1.076</td> <td> 0.282</td> <td>-2119.692</td> <td>  617.303</td>\n",
       "</tr>\n",
       "<tr>\n",
       "  <th>type_of_policy_Silver</th>     <td>-2413.4790</td> <td>  825.935</td> <td>   -2.922</td> <td> 0.003</td> <td>-4032.304</td> <td> -794.654</td>\n",
       "</tr>\n",
       "</table>\n",
       "<table class=\"simpletable\">\n",
       "<tr>\n",
       "  <th>Omnibus:</th>       <td>51212.700</td> <th>  Durbin-Watson:     </th>  <td>   1.995</td> \n",
       "</tr>\n",
       "<tr>\n",
       "  <th>Prob(Omnibus):</th>  <td> 0.000</td>   <th>  Jarque-Bera (JB):  </th> <td>404079.304</td>\n",
       "</tr>\n",
       "<tr>\n",
       "  <th>Skew:</th>           <td> 2.734</td>   <th>  Prob(JB):          </th>  <td>    0.00</td> \n",
       "</tr>\n",
       "<tr>\n",
       "  <th>Kurtosis:</th>       <td>11.865</td>   <th>  Cond. No.          </th>  <td>3.64e+04</td> \n",
       "</tr>\n",
       "</table><br/><br/>Notes:<br/>[1] Standard Errors assume that the covariance matrix of the errors is correctly specified.<br/>[2] The condition number is large, 3.64e+04. This might indicate that there are<br/>strong multicollinearity or other numerical problems."
      ],
      "text/plain": [
       "<class 'statsmodels.iolib.summary.Summary'>\n",
       "\"\"\"\n",
       "                            OLS Regression Results                            \n",
       "==============================================================================\n",
       "Dep. Variable:                   cltv   R-squared:                       0.151\n",
       "Model:                            OLS   Adj. R-squared:                  0.151\n",
       "Method:                 Least Squares   F-statistic:                     1059.\n",
       "Date:                Sun, 22 Jan 2023   Prob (F-statistic):               0.00\n",
       "Time:                        21:43:06   Log-Likelihood:            -1.1399e+06\n",
       "No. Observations:               89392   AIC:                         2.280e+06\n",
       "Df Residuals:                   89376   BIC:                         2.280e+06\n",
       "Df Model:                          15                                         \n",
       "Covariance Type:            nonrobust                                         \n",
       "=============================================================================================\n",
       "                                coef    std err          t      P>|t|      [0.025      0.975]\n",
       "---------------------------------------------------------------------------------------------\n",
       "const                      4.626e+04   1380.792     33.505      0.000    4.36e+04     4.9e+04\n",
       "marital_status            -7526.5092    572.465    -13.148      0.000   -8648.535   -6404.483\n",
       "vintage                     234.0869    122.700      1.908      0.056      -6.404     474.577\n",
       "claim_amount                  2.9621      0.119     24.813      0.000       2.728       3.196\n",
       "gender_Male                2578.7993    568.038      4.540      0.000    1465.449    3692.149\n",
       "area_Urban                 6297.0531    714.877      8.809      0.000    4895.901    7698.206\n",
       "qualification_High School  -925.3243    576.605     -1.605      0.109   -2055.464     204.816\n",
       "qualification_Others      -8018.5734   1432.976     -5.596      0.000   -1.08e+04   -5209.954\n",
       "income_5L-10L             -4921.2259    704.033     -6.990      0.000   -6301.124   -3541.328\n",
       "income_<=2L               -4712.0566   2029.718     -2.322      0.020   -8690.286    -733.828\n",
       "income_More than 10L      -6899.1849    950.509     -7.258      0.000   -8762.173   -5036.197\n",
       "num_policies_More than 1   6.532e+04    610.159    107.057      0.000    6.41e+04    6.65e+04\n",
       "policy_B                  -7584.5282    669.236    -11.333      0.000   -8896.225   -6272.831\n",
       "policy_C                   9871.6565    995.999      9.911      0.000    7919.507    1.18e+04\n",
       "type_of_policy_Platinum    -751.1945    698.217     -1.076      0.282   -2119.692     617.303\n",
       "type_of_policy_Silver     -2413.4790    825.935     -2.922      0.003   -4032.304    -794.654\n",
       "==============================================================================\n",
       "Omnibus:                    51212.700   Durbin-Watson:                   1.995\n",
       "Prob(Omnibus):                  0.000   Jarque-Bera (JB):           404079.304\n",
       "Skew:                           2.734   Prob(JB):                         0.00\n",
       "Kurtosis:                      11.865   Cond. No.                     3.64e+04\n",
       "==============================================================================\n",
       "\n",
       "Notes:\n",
       "[1] Standard Errors assume that the covariance matrix of the errors is correctly specified.\n",
       "[2] The condition number is large, 3.64e+04. This might indicate that there are\n",
       "strong multicollinearity or other numerical problems.\n",
       "\"\"\""
      ]
     },
     "execution_count": 883,
     "metadata": {},
     "output_type": "execute_result"
    }
   ],
   "source": [
    "x = sm.add_constant(X)\n",
    "est = sm.OLS(y,x).fit()\n",
    "est.summary()"
   ]
  },
  {
   "cell_type": "markdown",
   "id": "c9622706",
   "metadata": {},
   "source": [
    "### Trying some transformation"
   ]
  },
  {
   "cell_type": "code",
   "execution_count": 879,
   "id": "7d6aa0af",
   "metadata": {},
   "outputs": [],
   "source": [
    "X_sqrt = X.copy()"
   ]
  },
  {
   "cell_type": "code",
   "execution_count": 880,
   "id": "c841abc2",
   "metadata": {},
   "outputs": [],
   "source": [
    "X_sqrt['claim_amount'] = np.sqrt(X_sqrt['claim_amount'])"
   ]
  },
  {
   "cell_type": "code",
   "execution_count": 881,
   "id": "8acbedd7",
   "metadata": {},
   "outputs": [],
   "source": [
    "y_sqrt = y.copy()"
   ]
  },
  {
   "cell_type": "code",
   "execution_count": 884,
   "id": "16057b55",
   "metadata": {},
   "outputs": [],
   "source": [
    "y_sqrt['cltv'] = np.sqrt(y_sqrt['cltv'])"
   ]
  },
  {
   "cell_type": "code",
   "execution_count": 885,
   "id": "11ae1465",
   "metadata": {},
   "outputs": [
    {
     "data": {
      "text/html": [
       "<table class=\"simpletable\">\n",
       "<caption>OLS Regression Results</caption>\n",
       "<tr>\n",
       "  <th>Dep. Variable:</th>          <td>cltv</td>       <th>  R-squared:         </th>  <td>   0.225</td>  \n",
       "</tr>\n",
       "<tr>\n",
       "  <th>Model:</th>                   <td>OLS</td>       <th>  Adj. R-squared:    </th>  <td>   0.225</td>  \n",
       "</tr>\n",
       "<tr>\n",
       "  <th>Method:</th>             <td>Least Squares</td>  <th>  F-statistic:       </th>  <td>   1732.</td>  \n",
       "</tr>\n",
       "<tr>\n",
       "  <th>Date:</th>             <td>Sun, 22 Jan 2023</td> <th>  Prob (F-statistic):</th>   <td>  0.00</td>   \n",
       "</tr>\n",
       "<tr>\n",
       "  <th>Time:</th>                 <td>21:43:56</td>     <th>  Log-Likelihood:    </th> <td>-5.3758e+05</td>\n",
       "</tr>\n",
       "<tr>\n",
       "  <th>No. Observations:</th>      <td> 89392</td>      <th>  AIC:               </th>  <td>1.075e+06</td> \n",
       "</tr>\n",
       "<tr>\n",
       "  <th>Df Residuals:</th>          <td> 89376</td>      <th>  BIC:               </th>  <td>1.075e+06</td> \n",
       "</tr>\n",
       "<tr>\n",
       "  <th>Df Model:</th>              <td>    15</td>      <th>                     </th>      <td> </td>     \n",
       "</tr>\n",
       "<tr>\n",
       "  <th>Covariance Type:</th>      <td>nonrobust</td>    <th>                     </th>      <td> </td>     \n",
       "</tr>\n",
       "</table>\n",
       "<table class=\"simpletable\">\n",
       "<tr>\n",
       "              <td></td>                 <th>coef</th>     <th>std err</th>      <th>t</th>      <th>P>|t|</th>  <th>[0.025</th>    <th>0.975]</th>  \n",
       "</tr>\n",
       "<tr>\n",
       "  <th>const</th>                     <td>  212.2013</td> <td>    1.668</td> <td>  127.229</td> <td> 0.000</td> <td>  208.932</td> <td>  215.470</td>\n",
       "</tr>\n",
       "<tr>\n",
       "  <th>marital_status</th>            <td>   -9.9143</td> <td>    0.678</td> <td>  -14.629</td> <td> 0.000</td> <td>  -11.243</td> <td>   -8.586</td>\n",
       "</tr>\n",
       "<tr>\n",
       "  <th>vintage</th>                   <td>    0.4235</td> <td>    0.145</td> <td>    2.912</td> <td> 0.004</td> <td>    0.138</td> <td>    0.709</td>\n",
       "</tr>\n",
       "<tr>\n",
       "  <th>claim_amount</th>              <td>    0.2847</td> <td>    0.013</td> <td>   22.054</td> <td> 0.000</td> <td>    0.259</td> <td>    0.310</td>\n",
       "</tr>\n",
       "<tr>\n",
       "  <th>gender_Male</th>               <td>    2.2752</td> <td>    0.674</td> <td>    3.378</td> <td> 0.001</td> <td>    0.955</td> <td>    3.595</td>\n",
       "</tr>\n",
       "<tr>\n",
       "  <th>area_Urban</th>                <td>    8.1285</td> <td>    0.861</td> <td>    9.443</td> <td> 0.000</td> <td>    6.441</td> <td>    9.816</td>\n",
       "</tr>\n",
       "<tr>\n",
       "  <th>qualification_High School</th> <td>   -1.0191</td> <td>    0.683</td> <td>   -1.491</td> <td> 0.136</td> <td>   -2.358</td> <td>    0.320</td>\n",
       "</tr>\n",
       "<tr>\n",
       "  <th>qualification_Others</th>      <td>  -11.7439</td> <td>    1.698</td> <td>   -6.914</td> <td> 0.000</td> <td>  -15.073</td> <td>   -8.415</td>\n",
       "</tr>\n",
       "<tr>\n",
       "  <th>income_5L-10L</th>             <td>   -6.6101</td> <td>    0.834</td> <td>   -7.926</td> <td> 0.000</td> <td>   -8.245</td> <td>   -4.975</td>\n",
       "</tr>\n",
       "<tr>\n",
       "  <th>income_<=2L</th>               <td>   -5.3246</td> <td>    2.406</td> <td>   -2.213</td> <td> 0.027</td> <td>  -10.039</td> <td>   -0.610</td>\n",
       "</tr>\n",
       "<tr>\n",
       "  <th>income_More than 10L</th>      <td>   -9.0842</td> <td>    1.127</td> <td>   -8.063</td> <td> 0.000</td> <td>  -11.292</td> <td>   -6.876</td>\n",
       "</tr>\n",
       "<tr>\n",
       "  <th>num_policies_More than 1</th>  <td>  103.6574</td> <td>    0.723</td> <td>  143.326</td> <td> 0.000</td> <td>  102.240</td> <td>  105.075</td>\n",
       "</tr>\n",
       "<tr>\n",
       "  <th>policy_B</th>                  <td>   -9.5773</td> <td>    0.793</td> <td>  -12.076</td> <td> 0.000</td> <td>  -11.132</td> <td>   -8.023</td>\n",
       "</tr>\n",
       "<tr>\n",
       "  <th>policy_C</th>                  <td>   11.6446</td> <td>    1.180</td> <td>    9.865</td> <td> 0.000</td> <td>    9.331</td> <td>   13.958</td>\n",
       "</tr>\n",
       "<tr>\n",
       "  <th>type_of_policy_Platinum</th>   <td>   -0.7852</td> <td>    0.828</td> <td>   -0.949</td> <td> 0.343</td> <td>   -2.407</td> <td>    0.837</td>\n",
       "</tr>\n",
       "<tr>\n",
       "  <th>type_of_policy_Silver</th>     <td>   -3.1958</td> <td>    0.979</td> <td>   -3.265</td> <td> 0.001</td> <td>   -5.114</td> <td>   -1.277</td>\n",
       "</tr>\n",
       "</table>\n",
       "<table class=\"simpletable\">\n",
       "<tr>\n",
       "  <th>Omnibus:</th>       <td>33195.988</td> <th>  Durbin-Watson:     </th>  <td>   1.996</td> \n",
       "</tr>\n",
       "<tr>\n",
       "  <th>Prob(Omnibus):</th>  <td> 0.000</td>   <th>  Jarque-Bera (JB):  </th> <td>117355.028</td>\n",
       "</tr>\n",
       "<tr>\n",
       "  <th>Skew:</th>           <td> 1.897</td>   <th>  Prob(JB):          </th>  <td>    0.00</td> \n",
       "</tr>\n",
       "<tr>\n",
       "  <th>Kurtosis:</th>       <td> 7.136</td>   <th>  Cond. No.          </th>  <td>    474.</td> \n",
       "</tr>\n",
       "</table><br/><br/>Notes:<br/>[1] Standard Errors assume that the covariance matrix of the errors is correctly specified."
      ],
      "text/plain": [
       "<class 'statsmodels.iolib.summary.Summary'>\n",
       "\"\"\"\n",
       "                            OLS Regression Results                            \n",
       "==============================================================================\n",
       "Dep. Variable:                   cltv   R-squared:                       0.225\n",
       "Model:                            OLS   Adj. R-squared:                  0.225\n",
       "Method:                 Least Squares   F-statistic:                     1732.\n",
       "Date:                Sun, 22 Jan 2023   Prob (F-statistic):               0.00\n",
       "Time:                        21:43:56   Log-Likelihood:            -5.3758e+05\n",
       "No. Observations:               89392   AIC:                         1.075e+06\n",
       "Df Residuals:                   89376   BIC:                         1.075e+06\n",
       "Df Model:                          15                                         \n",
       "Covariance Type:            nonrobust                                         \n",
       "=============================================================================================\n",
       "                                coef    std err          t      P>|t|      [0.025      0.975]\n",
       "---------------------------------------------------------------------------------------------\n",
       "const                       212.2013      1.668    127.229      0.000     208.932     215.470\n",
       "marital_status               -9.9143      0.678    -14.629      0.000     -11.243      -8.586\n",
       "vintage                       0.4235      0.145      2.912      0.004       0.138       0.709\n",
       "claim_amount                  0.2847      0.013     22.054      0.000       0.259       0.310\n",
       "gender_Male                   2.2752      0.674      3.378      0.001       0.955       3.595\n",
       "area_Urban                    8.1285      0.861      9.443      0.000       6.441       9.816\n",
       "qualification_High School    -1.0191      0.683     -1.491      0.136      -2.358       0.320\n",
       "qualification_Others        -11.7439      1.698     -6.914      0.000     -15.073      -8.415\n",
       "income_5L-10L                -6.6101      0.834     -7.926      0.000      -8.245      -4.975\n",
       "income_<=2L                  -5.3246      2.406     -2.213      0.027     -10.039      -0.610\n",
       "income_More than 10L         -9.0842      1.127     -8.063      0.000     -11.292      -6.876\n",
       "num_policies_More than 1    103.6574      0.723    143.326      0.000     102.240     105.075\n",
       "policy_B                     -9.5773      0.793    -12.076      0.000     -11.132      -8.023\n",
       "policy_C                     11.6446      1.180      9.865      0.000       9.331      13.958\n",
       "type_of_policy_Platinum      -0.7852      0.828     -0.949      0.343      -2.407       0.837\n",
       "type_of_policy_Silver        -3.1958      0.979     -3.265      0.001      -5.114      -1.277\n",
       "==============================================================================\n",
       "Omnibus:                    33195.988   Durbin-Watson:                   1.996\n",
       "Prob(Omnibus):                  0.000   Jarque-Bera (JB):           117355.028\n",
       "Skew:                           1.897   Prob(JB):                         0.00\n",
       "Kurtosis:                       7.136   Cond. No.                         474.\n",
       "==============================================================================\n",
       "\n",
       "Notes:\n",
       "[1] Standard Errors assume that the covariance matrix of the errors is correctly specified.\n",
       "\"\"\""
      ]
     },
     "execution_count": 885,
     "metadata": {},
     "output_type": "execute_result"
    }
   ],
   "source": [
    "x = sm.add_constant(X_sqrt)\n",
    "est = sm.OLS(y_sqrt,x).fit()\n",
    "est.summary()"
   ]
  },
  {
   "cell_type": "markdown",
   "id": "9790e32f",
   "metadata": {},
   "source": [
    "## Try Pca "
   ]
  },
  {
   "cell_type": "code",
   "execution_count": 912,
   "id": "d22b057d",
   "metadata": {
    "scrolled": true
   },
   "outputs": [
    {
     "data": {
      "text/plain": [
       "(89392, 10)"
      ]
     },
     "execution_count": 912,
     "metadata": {},
     "output_type": "execute_result"
    }
   ],
   "source": [
    "from sklearn.decomposition import PCA\n",
    "pca = PCA(n_components=10)\n",
    "pca.fit(X)\n",
    "XtrainPCA = pca.transform(X)\n",
    "XtrainPCA.shape"
   ]
  },
  {
   "cell_type": "code",
   "execution_count": 913,
   "id": "350070ab",
   "metadata": {
    "scrolled": true
   },
   "outputs": [
    {
     "data": {
      "text/plain": [
       "array([9.99999006e-01, 6.96520285e-07, 4.67978536e-08, 4.05091619e-08,\n",
       "       3.52991939e-08, 3.31582920e-08, 2.98787336e-08, 2.76112216e-08,\n",
       "       2.55928626e-08, 2.04749187e-08])"
      ]
     },
     "execution_count": 913,
     "metadata": {},
     "output_type": "execute_result"
    }
   ],
   "source": [
    "pca.explained_variance_ratio_"
   ]
  },
  {
   "cell_type": "code",
   "execution_count": 914,
   "id": "88fb0436",
   "metadata": {
    "scrolled": true
   },
   "outputs": [
    {
     "data": {
      "text/html": [
       "<div>\n",
       "<style scoped>\n",
       "    .dataframe tbody tr th:only-of-type {\n",
       "        vertical-align: middle;\n",
       "    }\n",
       "\n",
       "    .dataframe tbody tr th {\n",
       "        vertical-align: top;\n",
       "    }\n",
       "\n",
       "    .dataframe thead th {\n",
       "        text-align: right;\n",
       "    }\n",
       "</style>\n",
       "<table border=\"1\" class=\"dataframe\">\n",
       "  <thead>\n",
       "    <tr style=\"text-align: right;\">\n",
       "      <th></th>\n",
       "      <th>var</th>\n",
       "      <th>PC</th>\n",
       "    </tr>\n",
       "  </thead>\n",
       "  <tbody>\n",
       "    <tr>\n",
       "      <th>0</th>\n",
       "      <td>9.999990e-01</td>\n",
       "      <td>PC1</td>\n",
       "    </tr>\n",
       "    <tr>\n",
       "      <th>1</th>\n",
       "      <td>6.965203e-07</td>\n",
       "      <td>PC2</td>\n",
       "    </tr>\n",
       "    <tr>\n",
       "      <th>2</th>\n",
       "      <td>4.679785e-08</td>\n",
       "      <td>PC3</td>\n",
       "    </tr>\n",
       "    <tr>\n",
       "      <th>3</th>\n",
       "      <td>4.050916e-08</td>\n",
       "      <td>PC4</td>\n",
       "    </tr>\n",
       "    <tr>\n",
       "      <th>4</th>\n",
       "      <td>3.529919e-08</td>\n",
       "      <td>PC5</td>\n",
       "    </tr>\n",
       "    <tr>\n",
       "      <th>5</th>\n",
       "      <td>3.315829e-08</td>\n",
       "      <td>PC6</td>\n",
       "    </tr>\n",
       "    <tr>\n",
       "      <th>6</th>\n",
       "      <td>2.987873e-08</td>\n",
       "      <td>PC7</td>\n",
       "    </tr>\n",
       "    <tr>\n",
       "      <th>7</th>\n",
       "      <td>2.761122e-08</td>\n",
       "      <td>PC8</td>\n",
       "    </tr>\n",
       "    <tr>\n",
       "      <th>8</th>\n",
       "      <td>2.559286e-08</td>\n",
       "      <td>PC9</td>\n",
       "    </tr>\n",
       "    <tr>\n",
       "      <th>9</th>\n",
       "      <td>2.047492e-08</td>\n",
       "      <td>PC10</td>\n",
       "    </tr>\n",
       "  </tbody>\n",
       "</table>\n",
       "</div>"
      ],
      "text/plain": [
       "            var    PC\n",
       "0  9.999990e-01   PC1\n",
       "1  6.965203e-07   PC2\n",
       "2  4.679785e-08   PC3\n",
       "3  4.050916e-08   PC4\n",
       "4  3.529919e-08   PC5\n",
       "5  3.315829e-08   PC6\n",
       "6  2.987873e-08   PC7\n",
       "7  2.761122e-08   PC8\n",
       "8  2.559286e-08   PC9\n",
       "9  2.047492e-08  PC10"
      ]
     },
     "execution_count": 914,
     "metadata": {},
     "output_type": "execute_result"
    }
   ],
   "source": [
    "PC = ['PC1','PC2','PC3','PC4','PC5','PC6','PC7','PC8','PC9','PC10']\n",
    "pca_df = pd.DataFrame({'var':pca.explained_variance_ratio_, 'PC':PC})\n",
    "pca_df"
   ]
  },
  {
   "cell_type": "code",
   "execution_count": 915,
   "id": "c09701b4",
   "metadata": {},
   "outputs": [
    {
     "data": {
      "text/html": [
       "<table class=\"simpletable\">\n",
       "<caption>OLS Regression Results</caption>\n",
       "<tr>\n",
       "  <th>Dep. Variable:</th>          <td>cltv</td>       <th>  R-squared:         </th>  <td>   0.150</td>  \n",
       "</tr>\n",
       "<tr>\n",
       "  <th>Model:</th>                   <td>OLS</td>       <th>  Adj. R-squared:    </th>  <td>   0.150</td>  \n",
       "</tr>\n",
       "<tr>\n",
       "  <th>Method:</th>             <td>Least Squares</td>  <th>  F-statistic:       </th>  <td>   1574.</td>  \n",
       "</tr>\n",
       "<tr>\n",
       "  <th>Date:</th>             <td>Sun, 22 Jan 2023</td> <th>  Prob (F-statistic):</th>   <td>  0.00</td>   \n",
       "</tr>\n",
       "<tr>\n",
       "  <th>Time:</th>                 <td>22:58:14</td>     <th>  Log-Likelihood:    </th> <td>-1.1399e+06</td>\n",
       "</tr>\n",
       "<tr>\n",
       "  <th>No. Observations:</th>      <td> 89392</td>      <th>  AIC:               </th>  <td>2.280e+06</td> \n",
       "</tr>\n",
       "<tr>\n",
       "  <th>Df Residuals:</th>          <td> 89381</td>      <th>  BIC:               </th>  <td>2.280e+06</td> \n",
       "</tr>\n",
       "<tr>\n",
       "  <th>Df Model:</th>              <td>    10</td>      <th>                     </th>      <td> </td>     \n",
       "</tr>\n",
       "<tr>\n",
       "  <th>Covariance Type:</th>      <td>nonrobust</td>    <th>                     </th>      <td> </td>     \n",
       "</tr>\n",
       "</table>\n",
       "<table class=\"simpletable\">\n",
       "<tr>\n",
       "    <td></td>       <th>coef</th>     <th>std err</th>      <th>t</th>      <th>P>|t|</th>  <th>[0.025</th>    <th>0.975]</th>  \n",
       "</tr>\n",
       "<tr>\n",
       "  <th>const</th> <td> 9.795e+04</td> <td>  279.482</td> <td>  350.480</td> <td> 0.000</td> <td> 9.74e+04</td> <td> 9.85e+04</td>\n",
       "</tr>\n",
       "<tr>\n",
       "  <th>x1</th>    <td>    5.6719</td> <td>    0.102</td> <td>   55.710</td> <td> 0.000</td> <td>    5.472</td> <td>    5.871</td>\n",
       "</tr>\n",
       "<tr>\n",
       "  <th>x2</th>    <td> -799.1479</td> <td>  121.990</td> <td>   -6.551</td> <td> 0.000</td> <td>-1038.248</td> <td> -560.048</td>\n",
       "</tr>\n",
       "<tr>\n",
       "  <th>x3</th>    <td>-7623.7075</td> <td>  470.629</td> <td>  -16.199</td> <td> 0.000</td> <td>-8546.136</td> <td>-6701.279</td>\n",
       "</tr>\n",
       "<tr>\n",
       "  <th>x4</th>    <td> 1.579e+04</td> <td>  505.842</td> <td>   31.214</td> <td> 0.000</td> <td> 1.48e+04</td> <td> 1.68e+04</td>\n",
       "</tr>\n",
       "<tr>\n",
       "  <th>x5</th>    <td>-1.402e+04</td> <td>  541.888</td> <td>  -25.877</td> <td> 0.000</td> <td>-1.51e+04</td> <td> -1.3e+04</td>\n",
       "</tr>\n",
       "<tr>\n",
       "  <th>x6</th>    <td>-1.348e+04</td> <td>  559.108</td> <td>  -24.108</td> <td> 0.000</td> <td>-1.46e+04</td> <td>-1.24e+04</td>\n",
       "</tr>\n",
       "<tr>\n",
       "  <th>x7</th>    <td>-6563.8143</td> <td>  588.994</td> <td>  -11.144</td> <td> 0.000</td> <td>-7718.237</td> <td>-5409.392</td>\n",
       "</tr>\n",
       "<tr>\n",
       "  <th>x8</th>    <td>-6.003e+04</td> <td>  612.702</td> <td>  -97.980</td> <td> 0.000</td> <td>-6.12e+04</td> <td>-5.88e+04</td>\n",
       "</tr>\n",
       "<tr>\n",
       "  <th>x9</th>    <td>-5035.4109</td> <td>  636.403</td> <td>   -7.912</td> <td> 0.000</td> <td>-6282.755</td> <td>-3788.067</td>\n",
       "</tr>\n",
       "<tr>\n",
       "  <th>x10</th>   <td> 1.265e+04</td> <td>  711.510</td> <td>   17.774</td> <td> 0.000</td> <td> 1.13e+04</td> <td>  1.4e+04</td>\n",
       "</tr>\n",
       "</table>\n",
       "<table class=\"simpletable\">\n",
       "<tr>\n",
       "  <th>Omnibus:</th>       <td>51248.608</td> <th>  Durbin-Watson:     </th>  <td>   1.996</td> \n",
       "</tr>\n",
       "<tr>\n",
       "  <th>Prob(Omnibus):</th>  <td> 0.000</td>   <th>  Jarque-Bera (JB):  </th> <td>404519.133</td>\n",
       "</tr>\n",
       "<tr>\n",
       "  <th>Skew:</th>           <td> 2.736</td>   <th>  Prob(JB):          </th>  <td>    0.00</td> \n",
       "</tr>\n",
       "<tr>\n",
       "  <th>Kurtosis:</th>       <td>11.869</td>   <th>  Cond. No.          </th>  <td>6.99e+03</td> \n",
       "</tr>\n",
       "</table><br/><br/>Notes:<br/>[1] Standard Errors assume that the covariance matrix of the errors is correctly specified.<br/>[2] The condition number is large, 6.99e+03. This might indicate that there are<br/>strong multicollinearity or other numerical problems."
      ],
      "text/plain": [
       "<class 'statsmodels.iolib.summary.Summary'>\n",
       "\"\"\"\n",
       "                            OLS Regression Results                            \n",
       "==============================================================================\n",
       "Dep. Variable:                   cltv   R-squared:                       0.150\n",
       "Model:                            OLS   Adj. R-squared:                  0.150\n",
       "Method:                 Least Squares   F-statistic:                     1574.\n",
       "Date:                Sun, 22 Jan 2023   Prob (F-statistic):               0.00\n",
       "Time:                        22:58:14   Log-Likelihood:            -1.1399e+06\n",
       "No. Observations:               89392   AIC:                         2.280e+06\n",
       "Df Residuals:                   89381   BIC:                         2.280e+06\n",
       "Df Model:                          10                                         \n",
       "Covariance Type:            nonrobust                                         \n",
       "==============================================================================\n",
       "                 coef    std err          t      P>|t|      [0.025      0.975]\n",
       "------------------------------------------------------------------------------\n",
       "const       9.795e+04    279.482    350.480      0.000    9.74e+04    9.85e+04\n",
       "x1             5.6719      0.102     55.710      0.000       5.472       5.871\n",
       "x2          -799.1479    121.990     -6.551      0.000   -1038.248    -560.048\n",
       "x3         -7623.7075    470.629    -16.199      0.000   -8546.136   -6701.279\n",
       "x4          1.579e+04    505.842     31.214      0.000    1.48e+04    1.68e+04\n",
       "x5         -1.402e+04    541.888    -25.877      0.000   -1.51e+04    -1.3e+04\n",
       "x6         -1.348e+04    559.108    -24.108      0.000   -1.46e+04   -1.24e+04\n",
       "x7         -6563.8143    588.994    -11.144      0.000   -7718.237   -5409.392\n",
       "x8         -6.003e+04    612.702    -97.980      0.000   -6.12e+04   -5.88e+04\n",
       "x9         -5035.4109    636.403     -7.912      0.000   -6282.755   -3788.067\n",
       "x10         1.265e+04    711.510     17.774      0.000    1.13e+04     1.4e+04\n",
       "==============================================================================\n",
       "Omnibus:                    51248.608   Durbin-Watson:                   1.996\n",
       "Prob(Omnibus):                  0.000   Jarque-Bera (JB):           404519.133\n",
       "Skew:                           2.736   Prob(JB):                         0.00\n",
       "Kurtosis:                      11.869   Cond. No.                     6.99e+03\n",
       "==============================================================================\n",
       "\n",
       "Notes:\n",
       "[1] Standard Errors assume that the covariance matrix of the errors is correctly specified.\n",
       "[2] The condition number is large, 6.99e+03. This might indicate that there are\n",
       "strong multicollinearity or other numerical problems.\n",
       "\"\"\""
      ]
     },
     "execution_count": 915,
     "metadata": {},
     "output_type": "execute_result"
    }
   ],
   "source": [
    "x = sm.add_constant(XtrainPCA)\n",
    "est = sm.OLS(y,x).fit()\n",
    "est.summary()"
   ]
  },
  {
   "cell_type": "markdown",
   "id": "8c2feec1",
   "metadata": {},
   "source": [
    "Did not increase R^2"
   ]
  },
  {
   "cell_type": "markdown",
   "id": "ce0f0377",
   "metadata": {},
   "source": [
    "## Random Forest with Hyper Perameter Tuning"
   ]
  },
  {
   "cell_type": "code",
   "execution_count": 888,
   "id": "8647cf74",
   "metadata": {},
   "outputs": [],
   "source": [
    "from sklearn.ensemble import RandomForestRegressor"
   ]
  },
  {
   "cell_type": "code",
   "execution_count": 893,
   "id": "76d42fd8",
   "metadata": {},
   "outputs": [],
   "source": [
    "rf = RandomForestRegressor(random_state=42)"
   ]
  },
  {
   "cell_type": "code",
   "execution_count": 895,
   "id": "78e72ae3",
   "metadata": {},
   "outputs": [
    {
     "data": {
      "text/plain": [
       "RandomForestRegressor(random_state=42)"
      ]
     },
     "execution_count": 895,
     "metadata": {},
     "output_type": "execute_result"
    }
   ],
   "source": [
    "rf.fit(xtrain,ytrain)"
   ]
  },
  {
   "cell_type": "code",
   "execution_count": 896,
   "id": "0d3e82f3",
   "metadata": {},
   "outputs": [],
   "source": [
    "pred2=rf.predict(xtest)"
   ]
  },
  {
   "cell_type": "code",
   "execution_count": 897,
   "id": "b680e220",
   "metadata": {},
   "outputs": [
    {
     "data": {
      "text/plain": [
       "0.01834118711073296"
      ]
     },
     "execution_count": 897,
     "metadata": {},
     "output_type": "execute_result"
    }
   ],
   "source": [
    "from sklearn import metrics\n",
    "metrics.r2_score(ytest,pred2)"
   ]
  },
  {
   "cell_type": "code",
   "execution_count": 902,
   "id": "54c520f3",
   "metadata": {
    "scrolled": true
   },
   "outputs": [],
   "source": [
    "importances = rf.feature_importances_"
   ]
  },
  {
   "cell_type": "code",
   "execution_count": 903,
   "id": "8506bfb2",
   "metadata": {
    "scrolled": true
   },
   "outputs": [
    {
     "data": {
      "text/plain": [
       "Text(0.5, 0, 'Random Forest Feature Importance')"
      ]
     },
     "execution_count": 903,
     "metadata": {},
     "output_type": "execute_result"
    },
    {
     "data": {
      "image/png": "[encoded data removed]",
      "text/plain": [
       "<Figure size 432x288 with 1 Axes>"
      ]
     },
     "metadata": {},
     "output_type": "display_data"
    }
   ],
   "source": [
    "sorted_idx = importances.argsort()\n",
    "plt.barh(X.columns[sorted_idx], importances[sorted_idx])\n",
    "plt.xlabel(\"Random Forest Feature Importance\")"
   ]
  },
  {
   "cell_type": "markdown",
   "id": "6f59a1f2",
   "metadata": {},
   "source": [
    "## GBM"
   ]
  },
  {
   "cell_type": "code",
   "execution_count": 916,
   "id": "3c923cbb",
   "metadata": {},
   "outputs": [],
   "source": [
    "from sklearn.ensemble import GradientBoostingRegressor"
   ]
  },
  {
   "cell_type": "code",
   "execution_count": 940,
   "id": "40ccb525",
   "metadata": {},
   "outputs": [],
   "source": [
    "gbr = GradientBoostingRegressor(random_state=42, n_estimators=600, max_depth=5, learning_rate=0.01, min_samples_split=3)"
   ]
  },
  {
   "cell_type": "code",
   "execution_count": 941,
   "id": "421fc2f5",
   "metadata": {},
   "outputs": [
    {
     "data": {
      "text/plain": [
       "GradientBoostingRegressor(learning_rate=0.01, max_depth=5, min_samples_split=3,\n",
       "                          n_estimators=600, random_state=42)"
      ]
     },
     "execution_count": 941,
     "metadata": {},
     "output_type": "execute_result"
    }
   ],
   "source": [
    "gbr.fit(xtrain, ytrain)"
   ]
  },
  {
   "cell_type": "code",
   "execution_count": 942,
   "id": "1e02f0fb",
   "metadata": {},
   "outputs": [],
   "source": [
    "ypred = gbr.predict(xtest)"
   ]
  },
  {
   "cell_type": "code",
   "execution_count": 943,
   "id": "990173b9",
   "metadata": {},
   "outputs": [
    {
     "data": {
      "text/plain": [
       "0.1623211527933225"
      ]
     },
     "execution_count": 943,
     "metadata": {},
     "output_type": "execute_result"
    }
   ],
   "source": [
    "metrics.r2_score(ytest, ypred)"
   ]
  },
  {
   "cell_type": "markdown",
   "id": "6d9d39ad",
   "metadata": {},
   "source": [
    "# TEST DATA"
   ]
  },
  {
   "cell_type": "code",
   "execution_count": 932,
   "id": "5b9a0baa",
   "metadata": {},
   "outputs": [],
   "source": [
    "test_df = pd.read_csv(\"test_koRSKBP.csv\")"
   ]
  },
  {
   "cell_type": "code",
   "execution_count": 933,
   "id": "9e26f88e",
   "metadata": {},
   "outputs": [
    {
     "data": {
      "text/html": [
       "<div>\n",
       "<style scoped>\n",
       "    .dataframe tbody tr th:only-of-type {\n",
       "        vertical-align: middle;\n",
       "    }\n",
       "\n",
       "    .dataframe tbody tr th {\n",
       "        vertical-align: top;\n",
       "    }\n",
       "\n",
       "    .dataframe thead th {\n",
       "        text-align: right;\n",
       "    }\n",
       "</style>\n",
       "<table border=\"1\" class=\"dataframe\">\n",
       "  <thead>\n",
       "    <tr style=\"text-align: right;\">\n",
       "      <th></th>\n",
       "      <th>id</th>\n",
       "      <th>gender</th>\n",
       "      <th>area</th>\n",
       "      <th>qualification</th>\n",
       "      <th>income</th>\n",
       "      <th>marital_status</th>\n",
       "      <th>vintage</th>\n",
       "      <th>claim_amount</th>\n",
       "      <th>num_policies</th>\n",
       "      <th>policy</th>\n",
       "      <th>type_of_policy</th>\n",
       "    </tr>\n",
       "  </thead>\n",
       "  <tbody>\n",
       "    <tr>\n",
       "      <th>0</th>\n",
       "      <td>89393</td>\n",
       "      <td>Female</td>\n",
       "      <td>Rural</td>\n",
       "      <td>High School</td>\n",
       "      <td>5L-10L</td>\n",
       "      <td>0</td>\n",
       "      <td>6</td>\n",
       "      <td>2134</td>\n",
       "      <td>More than 1</td>\n",
       "      <td>B</td>\n",
       "      <td>Silver</td>\n",
       "    </tr>\n",
       "    <tr>\n",
       "      <th>1</th>\n",
       "      <td>89394</td>\n",
       "      <td>Female</td>\n",
       "      <td>Urban</td>\n",
       "      <td>High School</td>\n",
       "      <td>2L-5L</td>\n",
       "      <td>0</td>\n",
       "      <td>4</td>\n",
       "      <td>4102</td>\n",
       "      <td>More than 1</td>\n",
       "      <td>A</td>\n",
       "      <td>Platinum</td>\n",
       "    </tr>\n",
       "    <tr>\n",
       "      <th>2</th>\n",
       "      <td>89395</td>\n",
       "      <td>Male</td>\n",
       "      <td>Rural</td>\n",
       "      <td>High School</td>\n",
       "      <td>5L-10L</td>\n",
       "      <td>1</td>\n",
       "      <td>7</td>\n",
       "      <td>2925</td>\n",
       "      <td>More than 1</td>\n",
       "      <td>B</td>\n",
       "      <td>Gold</td>\n",
       "    </tr>\n",
       "    <tr>\n",
       "      <th>3</th>\n",
       "      <td>89396</td>\n",
       "      <td>Female</td>\n",
       "      <td>Rural</td>\n",
       "      <td>Bachelor</td>\n",
       "      <td>More than 10L</td>\n",
       "      <td>1</td>\n",
       "      <td>2</td>\n",
       "      <td>0</td>\n",
       "      <td>More than 1</td>\n",
       "      <td>B</td>\n",
       "      <td>Silver</td>\n",
       "    </tr>\n",
       "    <tr>\n",
       "      <th>4</th>\n",
       "      <td>89397</td>\n",
       "      <td>Female</td>\n",
       "      <td>Urban</td>\n",
       "      <td>High School</td>\n",
       "      <td>2L-5L</td>\n",
       "      <td>0</td>\n",
       "      <td>5</td>\n",
       "      <td>14059</td>\n",
       "      <td>More than 1</td>\n",
       "      <td>B</td>\n",
       "      <td>Silver</td>\n",
       "    </tr>\n",
       "  </tbody>\n",
       "</table>\n",
       "</div>"
      ],
      "text/plain": [
       "      id  gender   area qualification         income  marital_status  vintage  \\\n",
       "0  89393  Female  Rural   High School         5L-10L               0        6   \n",
       "1  89394  Female  Urban   High School          2L-5L               0        4   \n",
       "2  89395    Male  Rural   High School         5L-10L               1        7   \n",
       "3  89396  Female  Rural      Bachelor  More than 10L               1        2   \n",
       "4  89397  Female  Urban   High School          2L-5L               0        5   \n",
       "\n",
       "   claim_amount num_policies policy type_of_policy  \n",
       "0          2134  More than 1      B         Silver  \n",
       "1          4102  More than 1      A       Platinum  \n",
       "2          2925  More than 1      B           Gold  \n",
       "3             0  More than 1      B         Silver  \n",
       "4         14059  More than 1      B         Silver  "
      ]
     },
     "execution_count": 933,
     "metadata": {},
     "output_type": "execute_result"
    }
   ],
   "source": [
    "test_df.head()"
   ]
  },
  {
   "cell_type": "code",
   "execution_count": 934,
   "id": "2e0cdafd",
   "metadata": {},
   "outputs": [],
   "source": [
    "test_copy = test_df.copy()"
   ]
  },
  {
   "cell_type": "code",
   "execution_count": 935,
   "id": "4620dd4b",
   "metadata": {},
   "outputs": [
    {
     "name": "stdout",
     "output_type": "stream",
     "text": [
      "Outliers from IQR method:  2.6059233157144055\n"
     ]
    }
   ],
   "source": [
    "outliers = []\n",
    "def detect_outliers_iqr(test_copy):\n",
    "    test_copy = sorted(test_copy)\n",
    "    q1 = np.percentile(test_copy, 25)\n",
    "    q3 = np.percentile(test_copy, 75)\n",
    "    # print(q1, q3)\n",
    "    IQR = q3-q1\n",
    "    lwr_bound = q1-(1.5*IQR)\n",
    "    upr_bound = q3+(1.5*IQR)\n",
    "    # print(lwr_bound, upr_bound)\n",
    "    for i in test_copy: \n",
    "        if (i<lwr_bound or i>upr_bound):\n",
    "            outliers.append(i)\n",
    "    return outliers# Driver code\n",
    "sample_outliers = detect_outliers_iqr(test_copy[\"claim_amount\"])\n",
    "print(\"Outliers from IQR method: \", (len(sample_outliers)/test_copy.shape[0])*100)"
   ]
  },
  {
   "cell_type": "code",
   "execution_count": 936,
   "id": "734040c8",
   "metadata": {},
   "outputs": [],
   "source": [
    "q1 = np.percentile(sorted(test_copy['claim_amount']), 25)\n",
    "q3 = np.percentile(sorted(test_copy['claim_amount']), 75)\n",
    "IQR = q3-q1\n",
    "lwr_bound = q1-(1.5*IQR)\n",
    "upr_bound = q3+(1.5*IQR)\n",
    "test_copy[\"claim_amount\"]=np.where((test_copy[\"claim_amount\"]>upr_bound),test_copy[\"claim_amount\"].median(),test_copy[\"claim_amount\"])\n",
    "test_copy[\"claim_amount\"]=np.where((test_copy[\"claim_amount\"]<lwr_bound),test_copy[\"claim_amount\"].median(),test_copy[\"claim_amount\"])"
   ]
  },
  {
   "cell_type": "code",
   "execution_count": 937,
   "id": "8a7784a2",
   "metadata": {},
   "outputs": [],
   "source": [
    "test_copy = pd.get_dummies(test_copy, drop_first= True)"
   ]
  },
  {
   "cell_type": "code",
   "execution_count": 938,
   "id": "8cb8b97a",
   "metadata": {},
   "outputs": [
    {
     "data": {
      "text/html": [
       "<div>\n",
       "<style scoped>\n",
       "    .dataframe tbody tr th:only-of-type {\n",
       "        vertical-align: middle;\n",
       "    }\n",
       "\n",
       "    .dataframe tbody tr th {\n",
       "        vertical-align: top;\n",
       "    }\n",
       "\n",
       "    .dataframe thead th {\n",
       "        text-align: right;\n",
       "    }\n",
       "</style>\n",
       "<table border=\"1\" class=\"dataframe\">\n",
       "  <thead>\n",
       "    <tr style=\"text-align: right;\">\n",
       "      <th></th>\n",
       "      <th>id</th>\n",
       "      <th>marital_status</th>\n",
       "      <th>vintage</th>\n",
       "      <th>claim_amount</th>\n",
       "      <th>gender_Male</th>\n",
       "      <th>area_Urban</th>\n",
       "      <th>qualification_High School</th>\n",
       "      <th>qualification_Others</th>\n",
       "      <th>income_5L-10L</th>\n",
       "      <th>income_&lt;=2L</th>\n",
       "      <th>income_More than 10L</th>\n",
       "      <th>num_policies_More than 1</th>\n",
       "      <th>policy_B</th>\n",
       "      <th>policy_C</th>\n",
       "      <th>type_of_policy_Platinum</th>\n",
       "      <th>type_of_policy_Silver</th>\n",
       "    </tr>\n",
       "  </thead>\n",
       "  <tbody>\n",
       "    <tr>\n",
       "      <th>0</th>\n",
       "      <td>89393</td>\n",
       "      <td>0</td>\n",
       "      <td>6</td>\n",
       "      <td>2134.0</td>\n",
       "      <td>0</td>\n",
       "      <td>0</td>\n",
       "      <td>1</td>\n",
       "      <td>0</td>\n",
       "      <td>1</td>\n",
       "      <td>0</td>\n",
       "      <td>0</td>\n",
       "      <td>1</td>\n",
       "      <td>1</td>\n",
       "      <td>0</td>\n",
       "      <td>0</td>\n",
       "      <td>1</td>\n",
       "    </tr>\n",
       "    <tr>\n",
       "      <th>1</th>\n",
       "      <td>89394</td>\n",
       "      <td>0</td>\n",
       "      <td>4</td>\n",
       "      <td>4102.0</td>\n",
       "      <td>0</td>\n",
       "      <td>1</td>\n",
       "      <td>1</td>\n",
       "      <td>0</td>\n",
       "      <td>0</td>\n",
       "      <td>0</td>\n",
       "      <td>0</td>\n",
       "      <td>1</td>\n",
       "      <td>0</td>\n",
       "      <td>0</td>\n",
       "      <td>1</td>\n",
       "      <td>0</td>\n",
       "    </tr>\n",
       "    <tr>\n",
       "      <th>2</th>\n",
       "      <td>89395</td>\n",
       "      <td>1</td>\n",
       "      <td>7</td>\n",
       "      <td>2925.0</td>\n",
       "      <td>1</td>\n",
       "      <td>0</td>\n",
       "      <td>1</td>\n",
       "      <td>0</td>\n",
       "      <td>1</td>\n",
       "      <td>0</td>\n",
       "      <td>0</td>\n",
       "      <td>1</td>\n",
       "      <td>1</td>\n",
       "      <td>0</td>\n",
       "      <td>0</td>\n",
       "      <td>0</td>\n",
       "    </tr>\n",
       "    <tr>\n",
       "      <th>3</th>\n",
       "      <td>89396</td>\n",
       "      <td>1</td>\n",
       "      <td>2</td>\n",
       "      <td>0.0</td>\n",
       "      <td>0</td>\n",
       "      <td>0</td>\n",
       "      <td>0</td>\n",
       "      <td>0</td>\n",
       "      <td>0</td>\n",
       "      <td>0</td>\n",
       "      <td>1</td>\n",
       "      <td>1</td>\n",
       "      <td>1</td>\n",
       "      <td>0</td>\n",
       "      <td>0</td>\n",
       "      <td>1</td>\n",
       "    </tr>\n",
       "    <tr>\n",
       "      <th>4</th>\n",
       "      <td>89397</td>\n",
       "      <td>0</td>\n",
       "      <td>5</td>\n",
       "      <td>4106.0</td>\n",
       "      <td>0</td>\n",
       "      <td>1</td>\n",
       "      <td>1</td>\n",
       "      <td>0</td>\n",
       "      <td>0</td>\n",
       "      <td>0</td>\n",
       "      <td>0</td>\n",
       "      <td>1</td>\n",
       "      <td>1</td>\n",
       "      <td>0</td>\n",
       "      <td>0</td>\n",
       "      <td>1</td>\n",
       "    </tr>\n",
       "  </tbody>\n",
       "</table>\n",
       "</div>"
      ],
      "text/plain": [
       "      id  marital_status  vintage  claim_amount  gender_Male  area_Urban  \\\n",
       "0  89393               0        6        2134.0            0           0   \n",
       "1  89394               0        4        4102.0            0           1   \n",
       "2  89395               1        7        2925.0            1           0   \n",
       "3  89396               1        2           0.0            0           0   \n",
       "4  89397               0        5        4106.0            0           1   \n",
       "\n",
       "   qualification_High School  qualification_Others  income_5L-10L  \\\n",
       "0                          1                     0              1   \n",
       "1                          1                     0              0   \n",
       "2                          1                     0              1   \n",
       "3                          0                     0              0   \n",
       "4                          1                     0              0   \n",
       "\n",
       "   income_<=2L  income_More than 10L  num_policies_More than 1  policy_B  \\\n",
       "0            0                     0                         1         1   \n",
       "1            0                     0                         1         0   \n",
       "2            0                     0                         1         1   \n",
       "3            0                     1                         1         1   \n",
       "4            0                     0                         1         1   \n",
       "\n",
       "   policy_C  type_of_policy_Platinum  type_of_policy_Silver  \n",
       "0         0                        0                      1  \n",
       "1         0                        1                      0  \n",
       "2         0                        0                      0  \n",
       "3         0                        0                      1  \n",
       "4         0                        0                      1  "
      ]
     },
     "execution_count": 938,
     "metadata": {},
     "output_type": "execute_result"
    }
   ],
   "source": [
    "test_copy.head()"
   ]
  },
  {
   "cell_type": "code",
   "execution_count": 945,
   "id": "9077da76",
   "metadata": {},
   "outputs": [],
   "source": [
    "test_copy1 = test_copy.drop('id', axis = 1)"
   ]
  },
  {
   "cell_type": "code",
   "execution_count": 947,
   "id": "36000407",
   "metadata": {
    "scrolled": true
   },
   "outputs": [],
   "source": [
    "predictions = gbr.predict(test_copy1)"
   ]
  },
  {
   "cell_type": "code",
   "execution_count": 948,
   "id": "e1e1f6c4",
   "metadata": {},
   "outputs": [
    {
     "data": {
      "text/plain": [
       "array([ 90973.67961021, 133012.31870299,  99751.69628639, ...,\n",
       "       109755.62709594, 109203.35882287, 117878.92283139])"
      ]
     },
     "execution_count": 948,
     "metadata": {},
     "output_type": "execute_result"
    }
   ],
   "source": [
    "predictions"
   ]
  },
  {
   "cell_type": "code",
   "execution_count": 949,
   "id": "98cb00a6",
   "metadata": {},
   "outputs": [],
   "source": [
    "df = pd.DataFrame(predictions)"
   ]
  },
  {
   "cell_type": "code",
   "execution_count": 950,
   "id": "15511fcb",
   "metadata": {},
   "outputs": [
    {
     "data": {
      "text/html": [
       "<div>\n",
       "<style scoped>\n",
       "    .dataframe tbody tr th:only-of-type {\n",
       "        vertical-align: middle;\n",
       "    }\n",
       "\n",
       "    .dataframe tbody tr th {\n",
       "        vertical-align: top;\n",
       "    }\n",
       "\n",
       "    .dataframe thead th {\n",
       "        text-align: right;\n",
       "    }\n",
       "</style>\n",
       "<table border=\"1\" class=\"dataframe\">\n",
       "  <thead>\n",
       "    <tr style=\"text-align: right;\">\n",
       "      <th></th>\n",
       "      <th>0</th>\n",
       "    </tr>\n",
       "  </thead>\n",
       "  <tbody>\n",
       "    <tr>\n",
       "      <th>0</th>\n",
       "      <td>90973.679610</td>\n",
       "    </tr>\n",
       "    <tr>\n",
       "      <th>1</th>\n",
       "      <td>133012.318703</td>\n",
       "    </tr>\n",
       "    <tr>\n",
       "      <th>2</th>\n",
       "      <td>99751.696286</td>\n",
       "    </tr>\n",
       "    <tr>\n",
       "      <th>3</th>\n",
       "      <td>86307.450662</td>\n",
       "    </tr>\n",
       "    <tr>\n",
       "      <th>4</th>\n",
       "      <td>121344.381567</td>\n",
       "    </tr>\n",
       "    <tr>\n",
       "      <th>...</th>\n",
       "      <td>...</td>\n",
       "    </tr>\n",
       "    <tr>\n",
       "      <th>59590</th>\n",
       "      <td>47052.164981</td>\n",
       "    </tr>\n",
       "    <tr>\n",
       "      <th>59591</th>\n",
       "      <td>51384.371294</td>\n",
       "    </tr>\n",
       "    <tr>\n",
       "      <th>59592</th>\n",
       "      <td>109755.627096</td>\n",
       "    </tr>\n",
       "    <tr>\n",
       "      <th>59593</th>\n",
       "      <td>109203.358823</td>\n",
       "    </tr>\n",
       "    <tr>\n",
       "      <th>59594</th>\n",
       "      <td>117878.922831</td>\n",
       "    </tr>\n",
       "  </tbody>\n",
       "</table>\n",
       "<p>59595 rows × 1 columns</p>\n",
       "</div>"
      ],
      "text/plain": [
       "                   0\n",
       "0       90973.679610\n",
       "1      133012.318703\n",
       "2       99751.696286\n",
       "3       86307.450662\n",
       "4      121344.381567\n",
       "...              ...\n",
       "59590   47052.164981\n",
       "59591   51384.371294\n",
       "59592  109755.627096\n",
       "59593  109203.358823\n",
       "59594  117878.922831\n",
       "\n",
       "[59595 rows x 1 columns]"
      ]
     },
     "execution_count": 950,
     "metadata": {},
     "output_type": "execute_result"
    }
   ],
   "source": [
    "df"
   ]
  },
  {
   "cell_type": "code",
   "execution_count": 951,
   "id": "7da11066",
   "metadata": {},
   "outputs": [],
   "source": [
    "df.to_csv(\"sample_submission.csv\")"
   ]
  },
  {
   "cell_type": "code",
   "execution_count": null,
   "id": "2df4c4e6",
   "metadata": {},
   "outputs": [],
   "source": []
  }
 ],
 "metadata": {
  "kernelspec": {
   "display_name": "Python 3 (ipykernel)",
   "language": "python",
   "name": "python3"
  },
  "language_info": {
   "codemirror_mode": {
    "name": "ipython",
    "version": 3
   },
   "file_extension": ".py",
   "mimetype": "text/x-python",
   "name": "python",
   "nbconvert_exporter": "python",
   "pygments_lexer": "ipython3",
   "version": "3.9.12"
  }
 },
 "nbformat": 4,
 "nbformat_minor": 5
}
